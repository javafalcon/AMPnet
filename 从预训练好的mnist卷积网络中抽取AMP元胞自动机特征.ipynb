{
 "cells": [
  {
   "cell_type": "code",
   "execution_count": 1,
   "metadata": {},
   "outputs": [
    {
     "name": "stdout",
     "output_type": "stream",
     "text": [
      "curses is not supported on this machine (please install/reinstall curses for an optimal experience)\n"
     ]
    }
   ],
   "source": [
    "import tflearn\n",
    "from tflearn.layers.core import input_data, dropout, fully_connected\n",
    "from tflearn.layers.conv import conv_2d, max_pool_2d\n",
    "from tflearn.layers.estimator import regression\n",
    "from tflearn.layers.normalization import local_response_normalization"
   ]
  },
  {
   "cell_type": "code",
   "execution_count": 2,
   "metadata": {
    "collapsed": true
   },
   "outputs": [],
   "source": [
    "from prepareDataset import load_data\n",
    "X,Y = load_data('e:/repoes/ampnet/data/img_60/', 'e:/repoes/ampnet/data/benchmark_60_Targets.json')\n",
    "X = X.reshape((-1,28,28,1))"
   ]
  },
  {
   "cell_type": "code",
   "execution_count": null,
   "metadata": {},
   "outputs": [],
   "source": [
    "#net trained by convnet-mnist\n",
    "net = input_data(shape=[None,28,28,1], name='input')\n",
    "net = conv_2d(net, 32,3, activation='relu', regularizer='L2')\n",
    "net = max_pool_2d(net,2)\n",
    "net = local_response_normalization(net)\n",
    "net = conv_2d(net,64,3, activation='relu', regularizer='L2')\n",
    "net = max_pool_2d(net,2)\n",
    "net = local_response_normalization(net)\n",
    "net = fully_connected(net, 128, activation='tanh')\n",
    "net = dropout(net, 0.8)\n",
    "net = fully_connected(net, 256, activation='tanh',name='feature')\n",
    "#net = dropout(net,0.8)\n",
    "#softmax = fully_connected(net, 6, activation='softmax', restore=False)\n",
    "#outnet = regression(softmax, optimizer='adam', learning_rate=0.01, loss='categorical_crossentropy', name='target', restore=False)\n",
    "model = tflearn.DNN(net, tensorboard_verbose=0)\n",
    "model.load('e:/repoes/ampnet/model/convnet_mnist', weights_only=True)"
   ]
  },
  {
   "cell_type": "code",
   "execution_count": null,
   "metadata": {},
   "outputs": [],
   "source": [
    "features=model.predict(X)\n",
    "'''arff_file = open('amp_convnet_mnist_features.arff','w')\n",
    "arff_file.write('@relation relationship\\n')\n",
    "for i in range(1,257):\n",
    "    line = '@attribute ' + 'Att' + str(i) + ' numeric\\n'\n",
    "    arff_file.write(line)\n",
    "arff_file.write('@attribute class {0,1}\\n')\n",
    "arff_file.write('@data\\n\\n')\n",
    "\n",
    "for i in range(len(X)):\n",
    "    line = []\n",
    "    for f in features[i]:\n",
    "        line.append(str(f))\n",
    "    for y in Y[i]:\n",
    "        line.append(str(int(y))) \n",
    "    arff_file.write(\",\".join(line))\n",
    "    arff_file.write('\\n')\n",
    "arff_file.close()    '''"
   ]
  },
  {
   "cell_type": "code",
   "execution_count": 3,
   "metadata": {},
   "outputs": [
    {
     "name": "stdout",
     "output_type": "stream",
     "text": [
      "INFO:tensorflow:Restoring parameters from e:/repoes/ampnet/model/cifar10_cnn_mnist\n"
     ]
    }
   ],
   "source": [
    "#net trained by cifar10-convnet-mnist\n",
    "# Real-time data preprocessing\n",
    "'''from tflearn.data_preprocessing import ImagePreprocessing\n",
    "from tflearn.data_augmentation import ImageAugmentation\n",
    "\n",
    "img_prep = ImagePreprocessing()\n",
    "img_prep.add_featurewise_zero_center()\n",
    "img_prep.add_featurewise_stdnorm()\n",
    "\n",
    "# Real-time data augmentation\n",
    "img_aug = ImageAugmentation()\n",
    "img_aug.add_random_flip_leftright()\n",
    "img_aug.add_random_rotation(max_angle=25.)'''\n",
    "\n",
    "# Convolutional network building\n",
    "network = input_data(shape=[None, 28, 28, 1])\n",
    "network = conv_2d(network, 32, 3, activation='relu')\n",
    "network = max_pool_2d(network, 2)\n",
    "network = dropout(network, 0.75)\n",
    "network = conv_2d(network, 64, 3, activation='relu')\n",
    "network = conv_2d(network, 64, 3, activation='relu')\n",
    "network = max_pool_2d(network, 2)\n",
    "network = dropout(network, 0.5)\n",
    "network = fully_connected(network, 512, activation='relu')\n",
    "network = dropout(network, 0.5)\n",
    "network = fully_connected(network, 6, activation='softmax',restore=False)\n",
    "network = regression(network, optimizer='adam',\n",
    "                     loss='categorical_crossentropy',\n",
    "                     learning_rate=0.001)\n",
    "\n",
    "# Train using classifier\n",
    "model = tflearn.DNN(network, tensorboard_verbose=0)\n",
    "model.load('e:/repoes/ampnet/model/cifar10_cnn_mnist', weights_only=True)"
   ]
  },
  {
   "cell_type": "code",
   "execution_count": null,
   "metadata": {},
   "outputs": [],
   "source": [
    "features=model.predict(X)\n",
    "arff_file = open('amp_cifa10_cnn_mnist_features.arff','w')\n",
    "arff_file.write('@relation relationship\\n')\n",
    "for i in range(1,513):\n",
    "    line = '@attribute ' + 'Att' + str(i) + ' numeric\\n'\n",
    "    arff_file.write(line)\n",
    "arff_file.write('@attribute class {0,1}\\n')\n",
    "arff_file.write('@data\\n\\n')\n",
    "\n",
    "for i in range(len(X)):\n",
    "    line = []\n",
    "    for f in features[i]:\n",
    "        line.append(str(f))\n",
    "    for y in Y[i]:\n",
    "        line.append(str(int(y))) \n",
    "    arff_file.write(\",\".join(line))\n",
    "    arff_file.write('\\n')\n",
    "arff_file.close()    "
   ]
  },
  {
   "cell_type": "code",
   "execution_count": 4,
   "metadata": {},
   "outputs": [],
   "source": [
    "Y_pred = model.predict(X)"
   ]
  },
  {
   "cell_type": "code",
   "execution_count": 5,
   "metadata": {
    "collapsed": true
   },
   "outputs": [],
   "source": [
    "from sklearn.metrics import hamming_loss"
   ]
  },
  {
   "cell_type": "code",
   "execution_count": 8,
   "metadata": {},
   "outputs": [
    {
     "data": {
      "text/plain": [
       "array([[  1.00000000e+00,   6.01402744e-14,   2.43706117e-15,\n",
       "          2.98619193e-28,   1.83204563e-10,   1.11002729e-09],\n",
       "       [  9.99999762e-01,   2.34084851e-07,   4.98618415e-21,\n",
       "          8.79259397e-34,   1.44066954e-08,   6.46764531e-10],\n",
       "       [  4.06309375e-10,   1.28809814e-04,   4.91991614e-07,\n",
       "          1.88165689e-20,   9.97324586e-01,   2.54601054e-03],\n",
       "       [  9.34505999e-01,   4.77638491e-13,   2.27984720e-15,\n",
       "          1.10188440e-18,   6.54907152e-02,   3.28692659e-06],\n",
       "       [  9.99869585e-01,   9.60928355e-06,   5.24618258e-07,\n",
       "          1.84552068e-23,   1.03709724e-04,   1.65582878e-05]], dtype=float32)"
      ]
     },
     "execution_count": 8,
     "metadata": {},
     "output_type": "execute_result"
    }
   ],
   "source": [
    "Y_pred[0:5]"
   ]
  },
  {
   "cell_type": "code",
   "execution_count": null,
   "metadata": {
    "collapsed": true
   },
   "outputs": [],
   "source": []
  }
 ],
 "metadata": {
  "kernelspec": {
   "display_name": "Python [default]",
   "language": "python",
   "name": "python3"
  },
  "language_info": {
   "codemirror_mode": {
    "name": "ipython",
    "version": 3
   },
   "file_extension": ".py",
   "mimetype": "text/x-python",
   "name": "python",
   "nbconvert_exporter": "python",
   "pygments_lexer": "ipython3",
   "version": "3.6.2"
  },
  "toc": {
   "base_numbering": 1,
   "nav_menu": {},
   "number_sections": true,
   "sideBar": true,
   "skip_h1_title": false,
   "title_cell": "Table of Contents",
   "title_sidebar": "Contents",
   "toc_cell": false,
   "toc_position": {},
   "toc_section_display": true,
   "toc_window_display": false
  }
 },
 "nbformat": 4,
 "nbformat_minor": 2
}
