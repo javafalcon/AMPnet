{
 "cells": [
  {
   "cell_type": "code",
   "execution_count": 1,
   "metadata": {},
   "outputs": [
    {
     "name": "stderr",
     "output_type": "stream",
     "text": [
      "Using TensorFlow backend.\n"
     ]
    }
   ],
   "source": [
    "from keras.models import Sequential\n",
    "from keras.layers.normalization import BatchNormalization\n",
    "from keras.layers.convolutional import Conv2D\n",
    "from keras.layers.convolutional import MaxPooling2D\n",
    "from keras.layers.core import Activation\n",
    "from keras.layers.core import Flatten\n",
    "from keras.layers.core import Dropout\n",
    "from keras.layers.core import Dense\n",
    "from keras import backend as K\n",
    "from keras.layers import Concatenate\n",
    "from keras.layers import Input\n",
    "from keras.models import Model\n",
    "import keras\n",
    "import numpy as np\n",
    "from sklearn.model_selection import train_test_split\n",
    "\n",
    "data = np.load('AMPs-ML.npz')\n",
    "X = data['X']\n",
    "y = data['y']\n",
    "X_train, X_test, y_train, y_test = train_test_split(\n",
    "         X, y, test_size=0.33, random_state=42)\n",
    "\n"
   ]
  },
  {
   "cell_type": "code",
   "execution_count": 5,
   "metadata": {},
   "outputs": [
    {
     "name": "stderr",
     "output_type": "stream",
     "text": [
      "D:\\Anaconda3\\envs\\tensorflow\\Lib\\site-packages\\ipykernel_launcher.py:20: UserWarning: The `nb_epoch` argument in `fit` has been renamed `epochs`.\n"
     ]
    },
    {
     "name": "stdout",
     "output_type": "stream",
     "text": [
      "Train on 923 samples, validate on 455 samples\n",
      "Epoch 1/30\n",
      "923/923 [==============================] - 2s 3ms/step - loss: 3.6805 - acc: 0.5710 - val_loss: 2.1564 - val_acc: 0.9275\n",
      "Epoch 2/30\n",
      "923/923 [==============================] - 1s 2ms/step - loss: 2.1029 - acc: 0.8180 - val_loss: 2.1519 - val_acc: 0.9275\n",
      "Epoch 3/30\n",
      "923/923 [==============================] - 1s 2ms/step - loss: 2.0037 - acc: 0.8754 - val_loss: 2.1628 - val_acc: 0.9275\n",
      "Epoch 4/30\n",
      "923/923 [==============================] - 1s 2ms/step - loss: 2.0089 - acc: 0.8592 - val_loss: 2.1543 - val_acc: 0.9275\n",
      "Epoch 5/30\n",
      "923/923 [==============================] - 1s 2ms/step - loss: 1.9538 - acc: 0.8927 - val_loss: 2.1812 - val_acc: 0.9275\n",
      "Epoch 6/30\n",
      "923/923 [==============================] - 2s 2ms/step - loss: 1.9313 - acc: 0.8949 - val_loss: 2.1569 - val_acc: 0.9275\n",
      "Epoch 7/30\n",
      "923/923 [==============================] - 1s 2ms/step - loss: 1.9056 - acc: 0.8960 - val_loss: 2.1760 - val_acc: 0.9275\n",
      "Epoch 8/30\n",
      "923/923 [==============================] - 2s 2ms/step - loss: 1.8519 - acc: 0.8852 - val_loss: 2.1630 - val_acc: 0.9275\n",
      "Epoch 9/30\n",
      "923/923 [==============================] - 1s 2ms/step - loss: 1.8085 - acc: 0.8917 - val_loss: 2.1683 - val_acc: 0.9275\n",
      "Epoch 10/30\n",
      "923/923 [==============================] - 2s 2ms/step - loss: 1.8040 - acc: 0.8917 - val_loss: 2.2084 - val_acc: 0.9275\n",
      "Epoch 11/30\n",
      "923/923 [==============================] - 1s 2ms/step - loss: 1.7371 - acc: 0.8949 - val_loss: 2.2630 - val_acc: 0.9275\n",
      "Epoch 12/30\n",
      "923/923 [==============================] - 1s 2ms/step - loss: 1.7182 - acc: 0.8938 - val_loss: 2.2012 - val_acc: 0.9275\n",
      "Epoch 13/30\n",
      "923/923 [==============================] - 2s 2ms/step - loss: 1.6659 - acc: 0.8949 - val_loss: 2.2891 - val_acc: 0.9275\n",
      "Epoch 14/30\n",
      "923/923 [==============================] - 2s 2ms/step - loss: 1.6514 - acc: 0.8938 - val_loss: 2.3503 - val_acc: 0.9275\n",
      "Epoch 15/30\n",
      "923/923 [==============================] - 2s 2ms/step - loss: 1.6386 - acc: 0.8787 - val_loss: 2.3794 - val_acc: 0.9275\n",
      "Epoch 16/30\n",
      "923/923 [==============================] - 2s 2ms/step - loss: 1.5839 - acc: 0.8797 - val_loss: 2.3359 - val_acc: 0.9275\n",
      "Epoch 17/30\n",
      "923/923 [==============================] - 2s 2ms/step - loss: 1.5494 - acc: 0.8743 - val_loss: 2.3705 - val_acc: 0.9275\n",
      "Epoch 18/30\n",
      "923/923 [==============================] - 2s 2ms/step - loss: 1.5666 - acc: 0.8732 - val_loss: 2.4556 - val_acc: 0.9275\n",
      "Epoch 19/30\n",
      "923/923 [==============================] - 2s 2ms/step - loss: 1.5379 - acc: 0.8689 - val_loss: 2.4109 - val_acc: 0.9275\n",
      "Epoch 20/30\n",
      "923/923 [==============================] - 2s 2ms/step - loss: 1.4980 - acc: 0.8657 - val_loss: 2.4058 - val_acc: 0.9275\n",
      "Epoch 21/30\n",
      "923/923 [==============================] - 2s 2ms/step - loss: 1.4784 - acc: 0.8602 - val_loss: 2.4154 - val_acc: 0.9209\n",
      "Epoch 22/30\n",
      "923/923 [==============================] - 2s 2ms/step - loss: 1.4410 - acc: 0.8581 - val_loss: 2.5603 - val_acc: 0.9143\n",
      "Epoch 23/30\n",
      "923/923 [==============================] - 2s 2ms/step - loss: 1.4454 - acc: 0.8212 - val_loss: 2.5926 - val_acc: 0.9231\n",
      "Epoch 24/30\n",
      "923/923 [==============================] - 2s 2ms/step - loss: 1.4195 - acc: 0.8657 - val_loss: 2.6463 - val_acc: 0.9253\n",
      "Epoch 25/30\n",
      "923/923 [==============================] - 2s 2ms/step - loss: 1.3802 - acc: 0.8472 - val_loss: 2.5681 - val_acc: 0.9165\n",
      "Epoch 26/30\n",
      "923/923 [==============================] - 2s 2ms/step - loss: 1.3640 - acc: 0.8527 - val_loss: 2.6715 - val_acc: 0.8945\n",
      "Epoch 27/30\n",
      "923/923 [==============================] - 1s 2ms/step - loss: 1.3534 - acc: 0.8451 - val_loss: 2.8031 - val_acc: 0.9165\n",
      "Epoch 28/30\n",
      "923/923 [==============================] - 1s 2ms/step - loss: 1.3452 - acc: 0.8407 - val_loss: 2.7187 - val_acc: 0.8725\n",
      "Epoch 29/30\n",
      "923/923 [==============================] - 2s 2ms/step - loss: 1.3431 - acc: 0.8256 - val_loss: 2.8065 - val_acc: 0.9055\n",
      "Epoch 30/30\n",
      "923/923 [==============================] - 2s 2ms/step - loss: 1.3159 - acc: 0.8288 - val_loss: 2.7119 - val_acc: 0.8791\n"
     ]
    },
    {
     "data": {
      "text/plain": [
       "<keras.callbacks.History at 0x52f1710>"
      ]
     },
     "execution_count": 5,
     "metadata": {},
     "output_type": "execute_result"
    }
   ],
   "source": [
    "input1 = Input(shape=[20,20,3])\n",
    "out1 = Conv2D(32,(3,3),padding='same',activation='relu')(input1)\n",
    "out1 = Flatten()(out1)\n",
    "model_left = Model(input1,out1)\n",
    "\n",
    "input2 = Input(shape=[20,20,3])\n",
    "out_right = Conv2D(32,(3,3),padding='same',activation='relu')(input2)\n",
    "out_right = Flatten()(out_right)\n",
    "model_right = Model(input2,out_right)\n",
    "\n",
    "conc = Concatenate()([model_left.output, model_right.output])\n",
    "out = Dense(100, activation='relu')(conc)\n",
    "out = Dropout(0.5)(out)\n",
    "out = Dense(6,activation='softmax')(out)\n",
    "\n",
    "model = Model([model_left.input, model_right.input], out)\n",
    "\n",
    "model.compile(loss='categorical_crossentropy',  optimizer='adam',metrics=['accuracy'])  \n",
    "   \n",
    "model.fit([X_train,X_train], y_train, batch_size=64, nb_epoch=30, validation_data=([X_test,X_test], y_test))"
   ]
  },
  {
   "cell_type": "code",
   "execution_count": null,
   "metadata": {
    "collapsed": true
   },
   "outputs": [],
   "source": []
  }
 ],
 "metadata": {
  "kernelspec": {
   "display_name": "Python [default]",
   "language": "python",
   "name": "python3"
  },
  "language_info": {
   "codemirror_mode": {
    "name": "ipython",
    "version": 3
   },
   "file_extension": ".py",
   "mimetype": "text/x-python",
   "name": "python",
   "nbconvert_exporter": "python",
   "pygments_lexer": "ipython3",
   "version": "3.6.2"
  },
  "toc": {
   "base_numbering": 1,
   "nav_menu": {},
   "number_sections": true,
   "sideBar": true,
   "skip_h1_title": false,
   "title_cell": "Table of Contents",
   "title_sidebar": "Contents",
   "toc_cell": false,
   "toc_position": {},
   "toc_section_display": true,
   "toc_window_display": false
  }
 },
 "nbformat": 4,
 "nbformat_minor": 2
}
