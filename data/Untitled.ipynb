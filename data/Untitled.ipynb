{
 "cells": [
  {
   "cell_type": "markdown",
   "metadata": {},
   "source": [
    "## 导入库"
   ]
  },
  {
   "cell_type": "code",
   "execution_count": 1,
   "metadata": {},
   "outputs": [],
   "source": [
    "import numpy as np\n",
    "import matplotlib.mlab as mlab\n",
    "import matplotlib.pyplot as plt\n",
    "from Bio import SeqIO\n",
    "%matplotlib inline"
   ]
  },
  {
   "cell_type": "markdown",
   "metadata": {},
   "source": [
    "## 计算Fasta格式文件中有多少条序列"
   ]
  },
  {
   "cell_type": "code",
   "execution_count": 2,
   "metadata": {},
   "outputs": [],
   "source": [
    "def num_of_samples(filename):\n",
    "    k = 0\n",
    "    for r in SeqIO.parse(filename,'fasta'):\n",
    "        k += 1\n",
    "    return k\n",
    "    "
   ]
  },
  {
   "cell_type": "markdown",
   "metadata": {},
   "source": [
    "### 绘制序列长度分布柱状图"
   ]
  },
  {
   "cell_type": "code",
   "execution_count": 15,
   "metadata": {},
   "outputs": [],
   "source": [
    "def draw_bar(labels,quants):\n",
    "    n = len(labels)\n",
    "    width = 0.8\n",
    "    ind = np.linspace(0.5,11.5,n)\n",
    "    # make a square figure\n",
    "    fig = plt.figure(1)\n",
    "    ax  = fig.add_subplot(111)\n",
    "    # Bar Plot\n",
    "    ax.bar(ind-width/2,quants,width,color='green')\n",
    "    # Set the ticks on x-axis\n",
    "    ax.set_xticks(ind)\n",
    "    ax.set_xticklabels(labels)\n",
    "    # labels\n",
    "    ax.set_xlabel('Length of Sequence')\n",
    "    ax.set_ylabel('Numbers of Sequnece')\n",
    "    # title\n",
    "    ax.set_title('Distribute of Sequence', bbox={'facecolor':'0.8', 'pad':5})\n",
    "    plt.grid(True)\n",
    "    plt.show()\n",
    "    plt.savefig(\"bar.jpg\")\n",
    "    plt.close()"
   ]
  },
  {
   "cell_type": "markdown",
   "metadata": {},
   "source": [
    "## 统计AMP正样本集序列长度区间分布"
   ]
  },
  {
   "cell_type": "code",
   "execution_count": 13,
   "metadata": {},
   "outputs": [],
   "source": [
    "# 读取正样本序列的长度到字典中，字典形如：length of sequence: numbers of sequence\n",
    "def stast_len_distribution(filename,lendist):\n",
    "    amp_len_dict={}\n",
    "    for r in SeqIO.parse(filename,'fasta'):\n",
    "        k = len(r.seq)\n",
    "        amp_len_dict[k] = amp_len_dict.get(k,0)+1\n",
    "\n",
    "    # 统计序列长度分布\n",
    "    n = len(lendist)\n",
    "    amp_len_list = list(amp_len_dict.items())\n",
    "    amp_len_list.sort(key=lambda x:x[0], reverse=True)\n",
    "    amp_len_dist = np.zeros(n+1)\n",
    "    for s in amp_len_list:\n",
    "        i = n-1\n",
    "        while i >= 0:\n",
    "            if s[0] > lendist[i]:\n",
    "                amp_len_dist[i+1] += s[1]\n",
    "                break\n",
    "            i -= 1\n",
    "        if i == -1:\n",
    "            amp_len_dist[0] += s[1]\n",
    "\n",
    "    return amp_len_dist"
   ]
  },
  {
   "cell_type": "code",
   "execution_count": 16,
   "metadata": {},
   "outputs": [
    {
     "data": {
      "image/png": "[encoded data removed]",
      "text/plain": [
       "<Figure size 432x288 with 1 Axes>"
      ]
     },
     "metadata": {
      "needs_background": "light"
     },
     "output_type": "display_data"
    }
   ],
   "source": [
    "lendist = [20,30,40,50,60,70,80,90]\n",
    "amp_len_dist = stast_len_distribution('AMPs_50',lendist)\n",
    "labels= ['<20', '30', '40', '50', '60', '70', '80', '90', '>90']\n",
    "draw_bar(labels,amp_len_dist)\n"
   ]
  },
  {
   "cell_type": "code",
   "execution_count": 21,
   "metadata": {},
   "outputs": [],
   "source": [
    "# X的累积和\n",
    "def accumulate(X):\n",
    "    ax = np.zeros(len(X))\n",
    "    ax[0] = X[0]\n",
    "    i = 1\n",
    "    while i<len(X):\n",
    "        ax[i] = ax[i-1] + X[i]\n",
    "        i += 1\n",
    "    return ax"
   ]
  },
  {
   "cell_type": "code",
   "execution_count": 17,
   "metadata": {},
   "outputs": [],
   "source": [
    "lendist = [20,30,40,50,60,70,80,90,100,110,120]\n",
    "amp_len_dist = stast_len_distribution('AMPs_50',lendist)"
   ]
  },
  {
   "cell_type": "code",
   "execution_count": 25,
   "metadata": {},
   "outputs": [
    {
     "name": "stdout",
     "output_type": "stream",
     "text": [
      "[ 93. 200. 161. 115.  62.  43.  41.  25.  18.  12.   5.  25.]\n",
      "[ 93. 293. 454. 569. 631. 674. 715. 740. 758. 770. 775. 800.]\n",
      "[ 11.625  36.625  56.75   71.125  78.875  84.25   89.375  92.5    94.75\n",
      "  96.25   96.875 100.   ]\n"
     ]
    }
   ],
   "source": [
    "ax = accumulate(amp_len_dist)\n",
    "print(amp_len_dist)\n",
    "print(ax)\n",
    "print(ax/8)\n",
    "# 长度<=50的序列占71%，长度在50~90的序列占21%，长度>90的序列占8%》"
   ]
  },
  {
   "cell_type": "markdown",
   "metadata": {},
   "source": [
    "## 统计负样本集序列长度分布区间"
   ]
  },
  {
   "cell_type": "code",
   "execution_count": 8,
   "metadata": {},
   "outputs": [
    {
     "data": {
      "image/png": "[encoded data removed]",
      "text/plain": [
       "<Figure size 432x288 with 1 Axes>"
      ]
     },
     "metadata": {
      "needs_background": "light"
     },
     "output_type": "display_data"
    }
   ],
   "source": [
    "notAmp_len_dist = stast_len_distribution('notAMPs-100aas_50',lendist)\n",
    "draw_bar(labels,notAmp_len_dist)"
   ]
  },
  {
   "cell_type": "markdown",
   "metadata": {},
   "source": [
    "## 从非AMP样本中随机选取800个序列。其中长度<=50的序列占71%，长度在50~90的序列占21%，长度>90的序列占8%"
   ]
  },
  {
   "cell_type": "code",
   "execution_count": 26,
   "metadata": {},
   "outputs": [],
   "source": [
    "notAMPSequs_all = {}\n",
    "for record in SeqIO.parse('notAMPs-100aas_50', 'fasta'):\n",
    "    notAMPSequs_all[record.id] = str(record.seq)"
   ]
  },
  {
   "cell_type": "code",
   "execution_count": 27,
   "metadata": {},
   "outputs": [
    {
     "data": {
      "text/plain": [
       "10194"
      ]
     },
     "execution_count": 27,
     "metadata": {},
     "output_type": "execute_result"
    }
   ],
   "source": [
    "import random as rm\n",
    "rm.seed(100)\n",
    "all_items = list(notAMPSequs_all.items())\n"
   ]
  },
  {
   "cell_type": "code",
   "execution_count": 31,
   "metadata": {},
   "outputs": [
    {
     "name": "stdout",
     "output_type": "stream",
     "text": [
      "568 168 64\n"
     ]
    }
   ],
   "source": [
    "N = len(all_items)\n",
    "n_50 = int(800*0.71)\n",
    "n_90 = int(800*0.21)\n",
    "n_100 = 800 - (n_50+n_90)\n",
    "print(n_50,n_90,n_100)"
   ]
  },
  {
   "cell_type": "code",
   "execution_count": null,
   "metadata": {},
   "outputs": [],
   "source": [
    "import random as rm \n",
    "\n",
    "rm.seed(20)\n",
    "items = list(notAMPSequs.items())\n",
    "notAMP = rm.sample(items,800)\n",
    "n = 0\n",
    "ndict={}\n",
    "for r in notAMP:\n",
    "    n += 1\n",
    "    k = len(r[1])\n",
    "    ndict[k] = ndict.get(k,0)+1\n",
    "lenitems = list(ndict.items())\n",
    "lenitems.sort(key=lambda x: x[0],reverse=True)\n",
    "for t in lenitems:\n",
    "    print(\"length {}: ->{}\".format(t[0],t[1]))"
   ]
  },
  {
   "cell_type": "code",
   "execution_count": null,
   "metadata": {},
   "outputs": [],
   "source": [
    "notAMP"
   ]
  },
  {
   "cell_type": "code",
   "execution_count": null,
   "metadata": {},
   "outputs": [],
   "source": [
    "items = list(ndict.items())\n",
    "items.sort(key=lambda x:x[0], reverse=True)\n",
    "for t in items:\n",
    "    print(\"length {}: ->{}\".format(t[0],t[1]))"
   ]
  },
  {
   "cell_type": "code",
   "execution_count": null,
   "metadata": {},
   "outputs": [],
   "source": []
  }
 ],
 "metadata": {
  "kernelspec": {
   "display_name": "Python 3",
   "language": "python",
   "name": "python3"
  },
  "language_info": {
   "codemirror_mode": {
    "name": "ipython",
    "version": 3
   },
   "file_extension": ".py",
   "mimetype": "text/x-python",
   "name": "python",
   "nbconvert_exporter": "python",
   "pygments_lexer": "ipython3",
   "version": "3.6.5"
  }
 },
 "nbformat": 4,
 "nbformat_minor": 2
}
