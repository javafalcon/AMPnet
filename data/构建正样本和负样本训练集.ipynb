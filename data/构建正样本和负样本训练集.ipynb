{
 "cells": [
  {
   "cell_type": "markdown",
   "metadata": {},
   "source": [
    "# 导入库及共享函数定义"
   ]
  },
  {
   "cell_type": "code",
   "execution_count": 2,
   "metadata": {
    "collapsed": true
   },
   "outputs": [],
   "source": [
    "import numpy as np\n",
    "import matplotlib.mlab as mlab\n",
    "import matplotlib.pyplot as plt\n",
    "from Bio import SeqIO\n",
    "import random as rm \n",
    "import sys\n",
    "sys.path.append('E:\\Repoes\\jci')\n",
    "import os\n",
    "%matplotlib inline\n"
   ]
  },
  {
   "cell_type": "markdown",
   "metadata": {},
   "source": [
    "## 计算Fasta格式文件中有多少条序列"
   ]
  },
  {
   "cell_type": "code",
   "execution_count": 3,
   "metadata": {
    "collapsed": true
   },
   "outputs": [],
   "source": [
    "def num_of_samples(filename):\n",
    "    k = 0\n",
    "    for r in SeqIO.parse(filename,'fasta'):\n",
    "        k += 1\n",
    "    return k\n",
    "    "
   ]
  },
  {
   "cell_type": "markdown",
   "metadata": {},
   "source": [
    "## 绘制序列长度分布柱状图"
   ]
  },
  {
   "cell_type": "code",
   "execution_count": 4,
   "metadata": {
    "collapsed": true
   },
   "outputs": [],
   "source": [
    "def draw_bar(labels,quants):\n",
    "    n = len(labels)\n",
    "    width = 0.8\n",
    "    ind = np.linspace(0.5,11.5,n)\n",
    "    # make a square figure\n",
    "    fig = plt.figure(1)\n",
    "    ax  = fig.add_subplot(111)\n",
    "    # Bar Plot\n",
    "    ax.bar(ind-width/2,quants,width,color='green')\n",
    "    # Set the ticks on x-axis\n",
    "    ax.set_xticks(ind)\n",
    "    ax.set_xticklabels(labels)\n",
    "    # labels\n",
    "    ax.set_xlabel('Length of Sequence')\n",
    "    ax.set_ylabel('Numbers of Sequnece')\n",
    "    # title\n",
    "    ax.set_title('Distribute of Sequence', bbox={'facecolor':'0.8', 'pad':5})\n",
    "    plt.grid(True)\n",
    "    plt.show()\n",
    "    plt.savefig(\"bar.jpg\")\n",
    "    plt.close()"
   ]
  },
  {
   "cell_type": "markdown",
   "metadata": {},
   "source": [
    "## 统计AMP正样本集序列长度区间分布"
   ]
  },
  {
   "cell_type": "code",
   "execution_count": 5,
   "metadata": {
    "collapsed": true
   },
   "outputs": [],
   "source": [
    "# 读取正样本序列的长度到字典中，字典形如：length of sequence: numbers of sequence\n",
    "def stast_len_distribution(filename,lendist):\n",
    "    amp_len_dict={}\n",
    "    for r in SeqIO.parse(filename,'fasta'):\n",
    "        k = len(r.seq)\n",
    "        amp_len_dict[k] = amp_len_dict.get(k,0)+1\n",
    "\n",
    "    # 统计序列长度分布\n",
    "    n = len(lendist)\n",
    "    amp_len_list = list(amp_len_dict.items())\n",
    "    amp_len_list.sort(key=lambda x:x[0], reverse=True)\n",
    "    amp_len_dist = np.zeros(n+1)\n",
    "    for s in amp_len_list:\n",
    "        i = n-1\n",
    "        while i >= 0:\n",
    "            if s[0] > lendist[i]:\n",
    "                amp_len_dist[i+1] += s[1]\n",
    "                break\n",
    "            i -= 1\n",
    "        if i == -1:\n",
    "            amp_len_dist[0] += s[1]\n",
    "\n",
    "    return amp_len_dist"
   ]
  },
  {
   "cell_type": "code",
   "execution_count": 6,
   "metadata": {},
   "outputs": [
    {
     "data": {
      "image/png": "[encoded data removed]",
      "text/plain": [
       "<matplotlib.figure.Figure at 0x237e2db0f28>"
      ]
     },
     "metadata": {},
     "output_type": "display_data"
    }
   ],
   "source": [
    "lendist = [20,30,40,50,60,70,80,90]\n",
    "amp_len_dist = stast_len_distribution('AMPs_50',lendist)\n",
    "labels= ['<20', '30', '40', '50', '60', '70', '80', '90', '>90']\n",
    "draw_bar(labels,amp_len_dist)\n"
   ]
  },
  {
   "cell_type": "code",
   "execution_count": null,
   "metadata": {
    "collapsed": true
   },
   "outputs": [],
   "source": [
    "# X的累积和\n",
    "def accumulate(X):\n",
    "    ax = np.zeros(len(X))\n",
    "    ax[0] = X[0]\n",
    "    i = 1\n",
    "    while i<len(X):\n",
    "        ax[i] = ax[i-1] + X[i]\n",
    "        i += 1\n",
    "    return ax"
   ]
  },
  {
   "cell_type": "code",
   "execution_count": null,
   "metadata": {
    "collapsed": true
   },
   "outputs": [],
   "source": [
    "lendist = [20,30,40,50,60,70,80,90,100,110,120]\n",
    "amp_len_dist = stast_len_distribution('AMPs_50',lendist)"
   ]
  },
  {
   "cell_type": "code",
   "execution_count": null,
   "metadata": {
    "collapsed": true
   },
   "outputs": [],
   "source": [
    "ax = accumulate(amp_len_dist)\n",
    "print(amp_len_dist)\n",
    "print(ax)\n",
    "print(ax/8)\n",
    "# 长度<=50的序列占71%，长度在50~90的序列占21%，长度>90的序列占8%》"
   ]
  },
  {
   "cell_type": "markdown",
   "metadata": {},
   "source": [
    "## 统计负样本集序列长度分布区间"
   ]
  },
  {
   "cell_type": "code",
   "execution_count": null,
   "metadata": {
    "collapsed": true
   },
   "outputs": [],
   "source": [
    "lendist = [20,30,40,50,60,70,80,90]\n",
    "notAmp_len_dist = stast_len_distribution('notAMPs-100aas_50',lendist)\n",
    "draw_bar(labels,notAmp_len_dist)"
   ]
  },
  {
   "cell_type": "markdown",
   "metadata": {},
   "source": [
    "# 从非AMP样本中随机选取800个序列。其中长度<=50的序列占71%，长度在50~90的序列占21%，长度>90的序列占8%"
   ]
  },
  {
   "cell_type": "code",
   "execution_count": null,
   "metadata": {
    "collapsed": true
   },
   "outputs": [],
   "source": [
    "# 读取10194条非AMP序列（任意两个序列间的相似度不超过50%）\n",
    "notAMPSequs_all = {}\n",
    "for record in SeqIO.parse('notAMPs-100aas_50', 'fasta'):\n",
    "    notAMPSequs_all[record.id] = str(record.seq)"
   ]
  },
  {
   "cell_type": "code",
   "execution_count": null,
   "metadata": {
    "collapsed": true
   },
   "outputs": [],
   "source": [
    "# 从中随机挑选800个样本，其中长度<=50占71%，长度在(50,90]占21%，长度>90占8%\n",
    "notAMPSequs = {}\n",
    "items = list(notAMPSequs_all.items())\n",
    "rm.seed(20)\n",
    "n1, n2, n3 = 0,0,0\n",
    "k = 0\n",
    "while k < 800:\n",
    "    t = rm.choice(items)\n",
    "    key = t[0].split('|')\n",
    "    if key[1] in notAMPSequs.keys():\n",
    "        continue\n",
    "    if len(t[1]) <= 50:\n",
    "        if n1 < 568: #\n",
    "            notAMPSequs[key[1]] = t[1]\n",
    "            k += 1\n",
    "            n1 += 1\n",
    "        else:\n",
    "            continue\n",
    "    elif len(t[1]) <= 90:\n",
    "        if n2 < 168:\n",
    "            notAMPSequs[key[1]] = t[1]\n",
    "            k += 1\n",
    "            n2 += 1\n",
    "        else:\n",
    "            continue\n",
    "    else:\n",
    "        if n3 < 64:\n",
    "            notAMPSequs[key[1]] = t[1]\n",
    "            k += 1\n",
    "            n3 += 1\n",
    "        else:\n",
    "            continue      "
   ]
  },
  {
   "cell_type": "code",
   "execution_count": null,
   "metadata": {
    "collapsed": true
   },
   "outputs": [],
   "source": [
    "# 写到文本中\n",
    "fw = open('e:/repoes/ampnet/data/notAMPs_50.fasta','w')\n",
    "for key in notAMPSequs.keys():\n",
    "    fw.writelines(['>',key,'\\n'])\n",
    "    fw.writelines([notAMPSequs[key],'\\n'])\n",
    "fw.close()"
   ]
  },
  {
   "cell_type": "code",
   "execution_count": null,
   "metadata": {
    "collapsed": true
   },
   "outputs": [],
   "source": [
    "lendist = [20,30,40,50,60,70,80,90]\n",
    "notAmp_len_dist = stast_len_distribution('notAMPs_50.fasta',lendist)\n",
    "draw_bar(labels,notAmp_len_dist)"
   ]
  },
  {
   "cell_type": "markdown",
   "metadata": {},
   "source": [
    "# 从预训练的网络中抽取序列CA的特征"
   ]
  },
  {
   "cell_type": "code",
   "execution_count": null,
   "metadata": {
    "collapsed": true,
    "scrolled": true
   },
   "outputs": [],
   "source": [
    "from CA import generateCAImageOfSeq\n",
    "def CAImages():\n",
    "    files = ['AMPs_50.fasta', 'notAMPs_50.fasta']\n",
    "    for f in files:\n",
    "        filepath = 'E:\\\\Repoes\\\\AMPnet\\\\data\\\\img\\\\' + f[0:-6]\n",
    "        if not os.path.exists(filepath):\n",
    "            os.makedirs(filepath)\n",
    "            \n",
    "        for seq_record in SeqIO.parse('E:\\\\Repoes\\\\AMPnet\\\\data\\\\benchmark\\\\' + f, 'fasta'):\n",
    "            seq = str(seq_record.seq)\n",
    "            imgfileName = filepath + '\\\\' + seq_record.id + '.jpg'\n",
    "            img = generateCAImageOfSeq(seq,84,0,300)\n",
    "            img = img.resize((28,28))\n",
    "            img.save(imgfileName,'jpeg')"
   ]
  },
  {
   "cell_type": "code",
   "execution_count": null,
   "metadata": {
    "collapsed": true
   },
   "outputs": [],
   "source": [
    "# 生成序列的CA图像\n",
    "CAImages()"
   ]
  },
  {
   "cell_type": "markdown",
   "metadata": {},
   "source": [
    "把蛋白质序列转变为0,1序列，然后用CA演化，把演化若干步后的结果写入到json文件"
   ]
  },
  {
   "cell_type": "code",
   "execution_count": null,
   "metadata": {
    "collapsed": true
   },
   "outputs": [],
   "source": [
    "import sys\n",
    "sys.path.append(\"E:\\\\Repoes\\\\jci\")\n",
    "from Bio import SeqIO\n",
    "from CA import generateCAArrayOfSeq\n",
    "import json\n",
    "def CAArrayFile(filename,jfile):\n",
    "    fp = open(jfile,'w')\n",
    "    arries = []\n",
    "    for seq_recorder in SeqIO.parse(filename,'fasta'):\n",
    "        seq = str(seq_recorder.seq)\n",
    "        arry = generateCAArrayOfSeq(seq,84,0,300,(28,28))\n",
    "        for i in range(28):\n",
    "            for j in range(28):\n",
    "                fp.write(str(arry[i][j]))\n",
    "                if (i+j !=54):\n",
    "                    fp.write(\",\")\n",
    "        fp.write(\"\\n\")\n",
    "    fp.close()"
   ]
  },
  {
   "cell_type": "code",
   "execution_count": null,
   "metadata": {
    "collapsed": true
   },
   "outputs": [],
   "source": [
    "CAArrayFile('E:\\\\Repoes\\\\AMPnet\\\\data\\\\benchmark\\\\AMPs_50.fasta','AMPs_50_CA_array.json')"
   ]
  },
  {
   "cell_type": "code",
   "execution_count": null,
   "metadata": {
    "collapsed": true
   },
   "outputs": [],
   "source": [
    "CAArrayFile('E:\\\\Repoes\\\\AMPnet\\\\data\\\\benchmark\\\\notAMPs_50.fasta','notAMPs_50_CA_array.json')"
   ]
  },
  {
   "cell_type": "code",
   "execution_count": null,
   "metadata": {
    "collapsed": true
   },
   "outputs": [],
   "source": []
  }
 ],
 "metadata": {
  "kernelspec": {
   "display_name": "Python [default]",
   "language": "python",
   "name": "python3"
  },
  "language_info": {
   "codemirror_mode": {
    "name": "ipython",
    "version": 3
   },
   "file_extension": ".py",
   "mimetype": "text/x-python",
   "name": "python",
   "nbconvert_exporter": "python",
   "pygments_lexer": "ipython3",
   "version": "3.6.2"
  },
  "toc": {
   "base_numbering": 1,
   "nav_menu": {},
   "number_sections": true,
   "sideBar": true,
   "skip_h1_title": false,
   "title_cell": "Table of Contents",
   "title_sidebar": "Contents",
   "toc_cell": false,
   "toc_position": {},
   "toc_section_display": true,
   "toc_window_display": true
  }
 },
 "nbformat": 4,
 "nbformat_minor": 2
}
