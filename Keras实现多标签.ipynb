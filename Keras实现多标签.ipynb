{
 "cells": [
  {
   "cell_type": "code",
   "execution_count": 1,
   "metadata": {},
   "outputs": [],
   "source": [
    "# import the necessary packages\n",
    "from keras.models import Sequential\n",
    "from keras.layers.normalization import BatchNormalization\n",
    "from keras.layers.convolutional import Conv2D\n",
    "from keras.layers.convolutional import MaxPooling2D\n",
    "from keras.layers.core import Activation\n",
    "from keras.layers.core import Flatten\n",
    "from keras.layers.core import Dropout\n",
    "from keras.layers.core import Dense\n",
    "from keras.layers import Input\n",
    "from keras.models import Model\n",
    "from keras.layers import Concatenate\n",
    "from keras import backend as K\n",
    "import keras"
   ]
  },
  {
   "cell_type": "markdown",
   "metadata": {},
   "source": [
    "把一个样本的标签集表示为类标签依赖矩阵。m(i,j)=1,当y(i)=1且y(j)=1；m(i,j)=0,其它"
   ]
  },
  {
   "cell_type": "code",
   "execution_count": 2,
   "metadata": {},
   "outputs": [],
   "source": [
    "def dependentMatrix(y):\n",
    "    n = len(y)\n",
    "    m = np.zeros(shape=[n,n])\n",
    "    for i in range(n):\n",
    "        for j in range(n):\n",
    "            if y[i] == 1 and y[j] == 1:\n",
    "                m[i][j] = 1\n",
    "    return m"
   ]
  },
  {
   "cell_type": "code",
   "execution_count": 3,
   "metadata": {},
   "outputs": [],
   "source": [
    "from keras.optimizers import Adam\n",
    "from sklearn.model_selection import train_test_split\n",
    "import numpy as np\n",
    "data = np.load('AMPs-ML.npz')\n",
    "X = data['X']\n",
    "y = data['y']\n",
    "X_train, X_test, y_train, y_test = train_test_split(\n",
    "         X, y, test_size=0.33, random_state=42)"
   ]
  },
  {
   "cell_type": "code",
   "execution_count": 4,
   "metadata": {},
   "outputs": [],
   "source": [
    "n_train = X_train.shape[0]\n",
    "label_train = np.ndarray([n_train,6,6,1])\n",
    "for i in range(n_train):\n",
    "    label_train[i,:,:,0] = dependentMatrix(y_train[i])"
   ]
  },
  {
   "cell_type": "code",
   "execution_count": 6,
   "metadata": {},
   "outputs": [],
   "source": [
    "def model():\n",
    "    chanDim = -1\n",
    "    input1 = Input(shape=[20,20,3])\n",
    "    out1 = Conv2D(32,(3,3), padding=\"same\", activation='relu')(input1)\n",
    "    out1 = BatchNormalization(axis=chanDim)(out1)\n",
    "    out1 = MaxPooling2D(pool_size=(3, 3))(out1)\n",
    "    out1 = Dropout(0.25)(out1)\n",
    "\n",
    "    # (CONV => RELU) * 2 => POOL\n",
    "    out1 = Conv2D(64, (3, 3), padding=\"same\",activation='relu')(out1)\n",
    "    out1 = BatchNormalization(axis=chanDim)(out1)\n",
    "    out1 = Conv2D(64, (3, 3), padding=\"same\",activation='relu')(out1)\n",
    "    out1 = BatchNormalization(axis=chanDim)(out1)\n",
    "    out1 = MaxPooling2D(pool_size=(2, 2))(out1)\n",
    "    out1 = Dropout(0.25)(out1)\n",
    "\n",
    "    # (CONV => RELU) * 2 => POOL\n",
    "    out1 = Conv2D(128, (3, 3), padding=\"same\",activation='relu')(out1)\n",
    "    out1 = BatchNormalization(axis=chanDim)(out1)\n",
    "    out1 = Conv2D(128, (3, 3), padding=\"same\",activation='relu')(out1)\n",
    "    out1 = BatchNormalization(axis=chanDim)(out1)\n",
    "    out1 = MaxPooling2D(pool_size=(2, 2))(out1)\n",
    "    out1 = Dropout(0.25)(out1)\n",
    "\n",
    "    # first set of FC => RELU layers\n",
    "    out1 = Flatten()(out1)\n",
    "    out1 = Dense(1024, activation='relu')(out1)\n",
    "    out1 = BatchNormalization()(out1)\n",
    "    out1 = Dropout(0.5)(out1)\n",
    "    \n",
    "    # second set of FC\n",
    "    out1 = Dense(2048, activation='relu')(out1)\n",
    "    out1 = BatchNormalization()(out1)\n",
    "    out1 = Dropout(0.5)(out1)\n",
    "    \n",
    "    model1 = Model(input1, out1)\n",
    "    \n",
    "    input2 = Input(shape=[6,6,1])\n",
    "    out2 = Conv2D(32,(3,3), padding=\"same\", activation='relu')(input2)\n",
    "    out2 = BatchNormalization(axis=chanDim)(out2)\n",
    "    \n",
    "    out2 = Conv2D(64,(3,3), padding=\"same\", activation='relu')(input2)\n",
    "    out2 = BatchNormalization(axis=chanDim)(out2)\n",
    "    \n",
    "    out2 = Conv2D(128,(3,3), padding=\"same\", activation='relu')(input2)\n",
    "    out2 = BatchNormalization(axis=chanDim)(out2)\n",
    "    \n",
    "    out2 = Flatten()(out2)\n",
    "    out2 = Dense(512, activation='relu')(out2)\n",
    "    out2 = BatchNormalization()(out2)\n",
    "    out2 = Dropout(0.5)(out2)\n",
    "    \n",
    "   \n",
    "    out2 = Dense(1024, activation='relu')(out2)\n",
    "    out2 = BatchNormalization()(out2)\n",
    "    out2 = Dropout(0.5)(out2)\n",
    "    \n",
    "    model2 = Model(input2,out2)\n",
    "    \n",
    "    conc = Concatenate(axis=-1)([model1.output,model2.output])\n",
    "    out = Dense(1024, activation=\"relu\")(conc)\n",
    "    out = Dropout(rate=0.5)(out)\n",
    "    out = Dense(units=6, activation=\"sigmoid\")(out)\n",
    "    \n",
    "    model = Model([model1.input, model2.input], out)\n",
    "    \n",
    "    return model"
   ]
  },
  {
   "cell_type": "code",
   "execution_count": 9,
   "metadata": {},
   "outputs": [
    {
     "name": "stdout",
     "output_type": "stream",
     "text": [
      "[INFO] training network...\n"
     ]
    },
    {
     "ename": "ValueError",
     "evalue": "Error when checking model input: the list of Numpy arrays that you are passing to your model is not the size the model expected. Expected to see 2 array(s), but instead got the following list of 1 arrays: [array([[[[0.        , 0.        , 0.        ],\n         [0.76541968, 0.        , 0.        ],\n         [0.49257244, 0.        , 0.        ],\n         ...,\n         [0.57705951, 0.        , 0.        ...",
     "output_type": "error",
     "traceback": [
      "\u001b[1;31m---------------------------------------------------------------------------\u001b[0m",
      "\u001b[1;31mValueError\u001b[0m                                Traceback (most recent call last)",
      "\u001b[1;32m<ipython-input-9-a801a62eddca>\u001b[0m in \u001b[0;36m<module>\u001b[1;34m\u001b[0m\n\u001b[0;32m     19\u001b[0m           \u001b[0mbatch_size\u001b[0m\u001b[1;33m=\u001b[0m\u001b[1;36m64\u001b[0m\u001b[1;33m,\u001b[0m\u001b[1;33m\u001b[0m\u001b[0m\n\u001b[0;32m     20\u001b[0m          verbose=0)\n\u001b[1;32m---> 21\u001b[1;33m \u001b[0mscore\u001b[0m \u001b[1;33m=\u001b[0m \u001b[0mnn\u001b[0m\u001b[1;33m.\u001b[0m\u001b[0mevaluate\u001b[0m\u001b[1;33m(\u001b[0m\u001b[0mX_test\u001b[0m\u001b[1;33m,\u001b[0m \u001b[0my_test\u001b[0m\u001b[1;33m,\u001b[0m \u001b[0mbatch_size\u001b[0m\u001b[1;33m=\u001b[0m\u001b[1;36m64\u001b[0m\u001b[1;33m)\u001b[0m\u001b[1;33m\u001b[0m\u001b[0m\n\u001b[0m",
      "\u001b[1;32mD:\\Anaconda3\\envs\\tensorflow\\Lib\\site-packages\\keras\\engine\\training.py\u001b[0m in \u001b[0;36mevaluate\u001b[1;34m(self, x, y, batch_size, verbose, sample_weight, steps)\u001b[0m\n\u001b[0;32m   1100\u001b[0m             \u001b[0mx\u001b[0m\u001b[1;33m,\u001b[0m \u001b[0my\u001b[0m\u001b[1;33m,\u001b[0m\u001b[1;33m\u001b[0m\u001b[0m\n\u001b[0;32m   1101\u001b[0m             \u001b[0msample_weight\u001b[0m\u001b[1;33m=\u001b[0m\u001b[0msample_weight\u001b[0m\u001b[1;33m,\u001b[0m\u001b[1;33m\u001b[0m\u001b[0m\n\u001b[1;32m-> 1102\u001b[1;33m             batch_size=batch_size)\n\u001b[0m\u001b[0;32m   1103\u001b[0m         \u001b[1;31m# Prepare inputs, delegate logic to `test_loop`.\u001b[0m\u001b[1;33m\u001b[0m\u001b[1;33m\u001b[0m\u001b[0m\n\u001b[0;32m   1104\u001b[0m         \u001b[1;32mif\u001b[0m \u001b[0mself\u001b[0m\u001b[1;33m.\u001b[0m\u001b[0m_uses_dynamic_learning_phase\u001b[0m\u001b[1;33m(\u001b[0m\u001b[1;33m)\u001b[0m\u001b[1;33m:\u001b[0m\u001b[1;33m\u001b[0m\u001b[0m\n",
      "\u001b[1;32mD:\\Anaconda3\\envs\\tensorflow\\Lib\\site-packages\\keras\\engine\\training.py\u001b[0m in \u001b[0;36m_standardize_user_data\u001b[1;34m(self, x, y, sample_weight, class_weight, check_array_lengths, batch_size)\u001b[0m\n\u001b[0;32m    749\u001b[0m             \u001b[0mfeed_input_shapes\u001b[0m\u001b[1;33m,\u001b[0m\u001b[1;33m\u001b[0m\u001b[0m\n\u001b[0;32m    750\u001b[0m             \u001b[0mcheck_batch_axis\u001b[0m\u001b[1;33m=\u001b[0m\u001b[1;32mFalse\u001b[0m\u001b[1;33m,\u001b[0m  \u001b[1;31m# Don't enforce the batch size.\u001b[0m\u001b[1;33m\u001b[0m\u001b[0m\n\u001b[1;32m--> 751\u001b[1;33m             exception_prefix='input')\n\u001b[0m\u001b[0;32m    752\u001b[0m \u001b[1;33m\u001b[0m\u001b[0m\n\u001b[0;32m    753\u001b[0m         \u001b[1;32mif\u001b[0m \u001b[0my\u001b[0m \u001b[1;32mis\u001b[0m \u001b[1;32mnot\u001b[0m \u001b[1;32mNone\u001b[0m\u001b[1;33m:\u001b[0m\u001b[1;33m\u001b[0m\u001b[0m\n",
      "\u001b[1;32mD:\\Anaconda3\\envs\\tensorflow\\Lib\\site-packages\\keras\\engine\\training_utils.py\u001b[0m in \u001b[0;36mstandardize_input_data\u001b[1;34m(data, names, shapes, check_batch_axis, exception_prefix)\u001b[0m\n\u001b[0;32m    100\u001b[0m                 \u001b[1;34m'Expected to see '\u001b[0m \u001b[1;33m+\u001b[0m \u001b[0mstr\u001b[0m\u001b[1;33m(\u001b[0m\u001b[0mlen\u001b[0m\u001b[1;33m(\u001b[0m\u001b[0mnames\u001b[0m\u001b[1;33m)\u001b[0m\u001b[1;33m)\u001b[0m \u001b[1;33m+\u001b[0m \u001b[1;34m' array(s), '\u001b[0m\u001b[1;33m\u001b[0m\u001b[0m\n\u001b[0;32m    101\u001b[0m                 \u001b[1;34m'but instead got the following list of '\u001b[0m \u001b[1;33m+\u001b[0m\u001b[1;33m\u001b[0m\u001b[0m\n\u001b[1;32m--> 102\u001b[1;33m                 str(len(data)) + ' arrays: ' + str(data)[:200] + '...')\n\u001b[0m\u001b[0;32m    103\u001b[0m         \u001b[1;32melif\u001b[0m \u001b[0mlen\u001b[0m\u001b[1;33m(\u001b[0m\u001b[0mnames\u001b[0m\u001b[1;33m)\u001b[0m \u001b[1;33m>\u001b[0m \u001b[1;36m1\u001b[0m\u001b[1;33m:\u001b[0m\u001b[1;33m\u001b[0m\u001b[0m\n\u001b[0;32m    104\u001b[0m             raise ValueError(\n",
      "\u001b[1;31mValueError\u001b[0m: Error when checking model input: the list of Numpy arrays that you are passing to your model is not the size the model expected. Expected to see 2 array(s), but instead got the following list of 1 arrays: [array([[[[0.        , 0.        , 0.        ],\n         [0.76541968, 0.        , 0.        ],\n         [0.49257244, 0.        , 0.        ],\n         ...,\n         [0.57705951, 0.        , 0.        ..."
     ]
    }
   ],
   "source": [
    "INIT_LR = 1e-3\n",
    "EPOCHS = 75\n",
    "BS = 32\n",
    "# initiallize the optimizer\n",
    "opt = Adam(lr=INIT_LR, decay=INIT_LR/EPOCHS)\n",
    "nn = model()\n",
    "nn.compile(loss='binary_crossentropy', optimizer=opt, metrics=['accuracy'])\n",
    "\n",
    "# compile the model using binary cross-entropy rather than\n",
    "# categorical cross-entropy -- this may seem counterintuitive for\n",
    "# multi-label classification, but keep in mind that the goal here\n",
    "# is to treat each output label as an independent Bernoulli distribution\n",
    "\n",
    "# train the network\n",
    "print(\"[INFO] training network...\")\n",
    "\n",
    "nn.fit([X_train, label_train], y_train,\n",
    "          epochs=20,\n",
    "          batch_size=64,\n",
    "         verbose=0)\n",
    "score = nn.evaluate(X_test, y_test, batch_size=64)"
   ]
  },
  {
   "cell_type": "code",
   "execution_count": null,
   "metadata": {},
   "outputs": [],
   "source": [
    "class SmallerVGGNet:\n",
    "    @staticmethod\n",
    "    def build(width, height, depth, classes, finalAct=\"softmax\"):\n",
    "        # initialize the model along with the input shape to be\n",
    "        # \"channels last\" and the channels dimension itself\n",
    "        model = Sequential()\n",
    "        inputShape = (height, width, depth)\n",
    "        chanDim = -1\n",
    "\n",
    "        # if we are using \"channels first\", update the input shape\n",
    "        # and channels dimension\n",
    "        if K.image_data_format() == \"channels_first\":\n",
    "            inputShape = (depth, height, width)\n",
    "            chanDim = 1\n",
    "            \n",
    "        # CONV => RELU => POOL\n",
    "        model.add(Conv2D(32, (3, 3), padding=\"same\",\n",
    "            input_shape=inputShape))\n",
    "        model.add(Activation(\"relu\"))\n",
    "        model.add(BatchNormalization(axis=chanDim))\n",
    "        model.add(MaxPooling2D(pool_size=(3, 3)))\n",
    "        model.add(Dropout(0.25))\n",
    "        \n",
    "        # (CONV => RELU) * 2 => POOL\n",
    "        model.add(Conv2D(64, (3, 3), padding=\"same\"))\n",
    "        model.add(Activation(\"relu\"))\n",
    "        model.add(BatchNormalization(axis=chanDim))\n",
    "        model.add(Conv2D(64, (3, 3), padding=\"same\"))\n",
    "        model.add(Activation(\"relu\"))\n",
    "        model.add(BatchNormalization(axis=chanDim))\n",
    "        model.add(MaxPooling2D(pool_size=(2, 2)))\n",
    "        model.add(Dropout(0.25))\n",
    "\n",
    "        # (CONV => RELU) * 2 => POOL\n",
    "        model.add(Conv2D(128, (3, 3), padding=\"same\"))\n",
    "        model.add(Activation(\"relu\"))\n",
    "        model.add(BatchNormalization(axis=chanDim))\n",
    "        model.add(Conv2D(128, (3, 3), padding=\"same\"))\n",
    "        model.add(Activation(\"relu\"))\n",
    "        model.add(BatchNormalization(axis=chanDim))\n",
    "        model.add(MaxPooling2D(pool_size=(2, 2)))\n",
    "        model.add(Dropout(0.25))\n",
    "        \n",
    "        # first (and only) set of FC => RELU layers\n",
    "        model.add(Flatten())\n",
    "        model.add(Dense(1024))\n",
    "        model.add(Activation(\"relu\"))\n",
    "        model.add(BatchNormalization())\n",
    "        model.add(Dropout(0.5))\n",
    "\n",
    "        # use a *softmax* activation for single-label classification\n",
    "        # and *sigmoid* activation for multi-label classification\n",
    "        model.add(Dense(classes))\n",
    "        model.add(Activation(finalAct))\n",
    "\n",
    "        # return the constructed network architecture\n",
    "        return model"
   ]
  },
  {
   "cell_type": "code",
   "execution_count": null,
   "metadata": {},
   "outputs": [],
   "source": [
    "from keras.optimizers import Adam\n",
    "from sklearn.model_selection import train_test_split"
   ]
  },
  {
   "cell_type": "code",
   "execution_count": null,
   "metadata": {},
   "outputs": [],
   "source": [
    "import numpy as np\n",
    "data = np.load('AMPs-ML.npz')\n",
    "X = data['X']\n",
    "y = data['y']\n",
    "X_train, X_test, y_train, y_test = train_test_split(\n",
    "         X, y, test_size=0.33, random_state=42)"
   ]
  },
  {
   "cell_type": "code",
   "execution_count": null,
   "metadata": {},
   "outputs": [],
   "source": [
    "X_train.shape"
   ]
  },
  {
   "cell_type": "code",
   "execution_count": null,
   "metadata": {},
   "outputs": [],
   "source": [
    "\n",
    "y1 = y_train[:,0]\n",
    "\n",
    "y1_cate = to_categorical(y1,num_classes=2)\n",
    "sum(y1_cate)"
   ]
  },
  {
   "cell_type": "code",
   "execution_count": null,
   "metadata": {},
   "outputs": [],
   "source": [
    "# 分成6个2分类预测器，每个预测器预测一个标签\n",
    "from keras.utils import to_categorical\n",
    "from sklearn.metrics import accuracy_score\n",
    "from sklearn.metrics import hamming_loss\n",
    "\n",
    "INIT_LR = 1e-3\n",
    "EPOCHS = 20\n",
    "BS = 32\n",
    "y_pred=np.zeros([y_test.shape[0],6])\n",
    "for i in range(6):\n",
    "    y_sub = y_train[:,i]\n",
    "    y_bin = to_categorical(y_sub, num_classes=2)\n",
    "    y_count = sum(y_bin)\n",
    "    cw = {0: 1/(2*y_count[0]), 1: 1/(2*y_count[1])}\n",
    "    model = SmallerVGGNet.build(width=20, height=20, depth=3, classes=2, finalAct='softmax')\n",
    "    opt = Adam(lr=INIT_LR, decay=INIT_LR/EPOCHS)\n",
    "    model.compile(loss='categorical_crossentropy', optimizer=opt, metrics=['accuracy'])\n",
    "    print('[INFO] training network for label {}'.format(i))\n",
    "    model.fit(X_train,y_bin, batch_size=BS, epochs=20,\n",
    "             class_weight=cw, verbose=0)\n",
    "    y_pred[:,i] = model.predict_classes(X_test)\n",
    "\n",
    "\n",
    "print(\"the subset accuracy: {}\".format(accuracy_score(y_test,y_pred)))\n",
    "print(\"hamming loss: {}\".format(hamming_loss(y_test,y_pred)))"
   ]
  },
  {
   "cell_type": "code",
   "execution_count": null,
   "metadata": {},
   "outputs": [],
   "source": [
    "accuracy_score(y_test[:,5],y_pred[:,5])"
   ]
  },
  {
   "cell_type": "code",
   "execution_count": null,
   "metadata": {},
   "outputs": [],
   "source": [
    "#同时预测6个标签\n",
    "import numpy as np\n",
    "data = np.load('AMPs-ML.npz')\n",
    "X = data['X']\n",
    "y = data['y']\n",
    "X_train, X_test, y_train, y_test = train_test_split(\n",
    "         X, y, test_size=0.33, random_state=42)\n",
    "\n",
    "INIT_LR = 1e-3\n",
    "EPOCHS = 75\n",
    "BS = 32\n",
    "model = SmallerVGGNet.build(width=20, height=20, depth=3, classes=6, finalAct=\"sigmoid\")\n",
    "\n",
    "# initiallize the optimizer\n",
    "opt = Adam(lr=INIT_LR, decay=INIT_LR/EPOCHS)\n",
    "w = sum(y_train)\n",
    "cw = {}\n",
    "for i in range(6):\n",
    "    cw[i] = 1/(6*w[i])\n",
    "# compile the model using binary cross-entropy rather than\n",
    "# categorical cross-entropy -- this may seem counterintuitive for\n",
    "# multi-label classification, but keep in mind that the goal here\n",
    "# is to treat each output label as an independent Bernoulli distribution\n",
    "model.compile(loss=\"binary_crossentropy\", optimizer=opt, metrics=[\"accuracy\"])\n",
    "\n",
    "# train the network\n",
    "print(\"[INFO] training network...\")\n",
    "model.fit(X_train, y_train,\n",
    "          epochs=20,\n",
    "          batch_size=64,\n",
    "         class_weight=cw,\n",
    "         verbose=0)\n",
    "score = model.evaluate(X_test, y_test, batch_size=64)"
   ]
  },
  {
   "cell_type": "code",
   "execution_count": null,
   "metadata": {},
   "outputs": [],
   "source": [
    "p = model.predict(X_test)\n",
    "#print(\"the subset accuracy: {}\".format(accuracy_score(y_test,p)))\n",
    "#print(\"hamming loss: {}\".format(hamming_loss(y_test,p)))"
   ]
  },
  {
   "cell_type": "code",
   "execution_count": null,
   "metadata": {},
   "outputs": [],
   "source": [
    "y_test.shape"
   ]
  },
  {
   "cell_type": "code",
   "execution_count": null,
   "metadata": {},
   "outputs": [],
   "source": [
    "p=dependentMatrix(y_test[-2])\n",
    "p"
   ]
  },
  {
   "cell_type": "code",
   "execution_count": null,
   "metadata": {},
   "outputs": [],
   "source": [
    "label_train.shape\n"
   ]
  },
  {
   "cell_type": "code",
   "execution_count": null,
   "metadata": {},
   "outputs": [],
   "source": [
    "X_train.shape\n"
   ]
  },
  {
   "cell_type": "code",
   "execution_count": null,
   "metadata": {},
   "outputs": [],
   "source": []
  }
 ],
 "metadata": {
  "kernelspec": {
   "display_name": "Python 3",
   "language": "python",
   "name": "python3"
  },
  "language_info": {
   "codemirror_mode": {
    "name": "ipython",
    "version": 3
   },
   "file_extension": ".py",
   "mimetype": "text/x-python",
   "name": "python",
   "nbconvert_exporter": "python",
   "pygments_lexer": "ipython3",
   "version": "3.6.6"
  },
  "toc": {
   "base_numbering": 1,
   "nav_menu": {},
   "number_sections": true,
   "sideBar": true,
   "skip_h1_title": false,
   "title_cell": "Table of Contents",
   "title_sidebar": "Contents",
   "toc_cell": false,
   "toc_position": {},
   "toc_section_display": true,
   "toc_window_display": true
  }
 },
 "nbformat": 4,
 "nbformat_minor": 2
}
