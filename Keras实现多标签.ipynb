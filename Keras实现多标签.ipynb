{
 "cells": [
  {
   "cell_type": "code",
   "execution_count": 1,
   "metadata": {},
   "outputs": [
    {
     "name": "stderr",
     "output_type": "stream",
     "text": [
      "Using TensorFlow backend.\n"
     ]
    }
   ],
   "source": [
    "# import the necessary packages\n",
    "from keras.models import Sequential\n",
    "from keras.layers.normalization import BatchNormalization\n",
    "from keras.layers.convolutional import Conv2D\n",
    "from keras.layers.convolutional import MaxPooling2D\n",
    "from keras.layers.core import Activation\n",
    "from keras.layers.core import Flatten\n",
    "from keras.layers.core import Dropout\n",
    "from keras.layers.core import Dense\n",
    "from keras import backend as K"
   ]
  },
  {
   "cell_type": "code",
   "execution_count": 2,
   "metadata": {},
   "outputs": [],
   "source": [
    "class SmallerVGGNet:\n",
    "    @staticmethod\n",
    "    def build(width, height, depth, classes, finalAct=\"softmax\"):\n",
    "        # initialize the model along with the input shape to be\n",
    "        # \"channels last\" and the channels dimension itself\n",
    "        model = Sequential()\n",
    "        inputShape = (height, width, depth)\n",
    "        chanDim = -1\n",
    "\n",
    "        # if we are using \"channels first\", update the input shape\n",
    "        # and channels dimension\n",
    "        if K.image_data_format() == \"channels_first\":\n",
    "            inputShape = (depth, height, width)\n",
    "            chanDim = 1\n",
    "            \n",
    "        # CONV => RELU => POOL\n",
    "        model.add(Conv2D(32, (3, 3), padding=\"same\",\n",
    "            input_shape=inputShape))\n",
    "        model.add(Activation(\"relu\"))\n",
    "        model.add(BatchNormalization(axis=chanDim))\n",
    "        model.add(MaxPooling2D(pool_size=(3, 3)))\n",
    "        model.add(Dropout(0.25))\n",
    "        \n",
    "        # (CONV => RELU) * 2 => POOL\n",
    "        model.add(Conv2D(64, (3, 3), padding=\"same\"))\n",
    "        model.add(Activation(\"relu\"))\n",
    "        model.add(BatchNormalization(axis=chanDim))\n",
    "        model.add(Conv2D(64, (3, 3), padding=\"same\"))\n",
    "        model.add(Activation(\"relu\"))\n",
    "        model.add(BatchNormalization(axis=chanDim))\n",
    "        model.add(MaxPooling2D(pool_size=(2, 2)))\n",
    "        model.add(Dropout(0.25))\n",
    "\n",
    "        # (CONV => RELU) * 2 => POOL\n",
    "        model.add(Conv2D(128, (3, 3), padding=\"same\"))\n",
    "        model.add(Activation(\"relu\"))\n",
    "        model.add(BatchNormalization(axis=chanDim))\n",
    "        model.add(Conv2D(128, (3, 3), padding=\"same\"))\n",
    "        model.add(Activation(\"relu\"))\n",
    "        model.add(BatchNormalization(axis=chanDim))\n",
    "        model.add(MaxPooling2D(pool_size=(2, 2)))\n",
    "        model.add(Dropout(0.25))\n",
    "        \n",
    "        # first (and only) set of FC => RELU layers\n",
    "        model.add(Flatten())\n",
    "        model.add(Dense(1024))\n",
    "        model.add(Activation(\"relu\"))\n",
    "        model.add(BatchNormalization())\n",
    "        model.add(Dropout(0.5))\n",
    "\n",
    "        # use a *softmax* activation for single-label classification\n",
    "        # and *sigmoid* activation for multi-label classification\n",
    "        model.add(Dense(classes))\n",
    "        model.add(Activation(finalAct))\n",
    "\n",
    "        # return the constructed network architecture\n",
    "        return model"
   ]
  },
  {
   "cell_type": "code",
   "execution_count": 3,
   "metadata": {},
   "outputs": [],
   "source": [
    "from keras.optimizers import Adam\n",
    "from sklearn.model_selection import train_test_split\n",
    "from sklearn.preprocessing import MultiLabelBinarizer"
   ]
  },
  {
   "cell_type": "code",
   "execution_count": 4,
   "metadata": {},
   "outputs": [
    {
     "name": "stdout",
     "output_type": "stream",
     "text": [
      "[INFO] training network...\n",
      "Epoch 1/20\n",
      "923/923 [==============================] - 4s 4ms/step - loss: 0.9510 - acc: 0.5244\n",
      "Epoch 2/20\n",
      "923/923 [==============================] - 2s 2ms/step - loss: 0.8356 - acc: 0.5702\n",
      "Epoch 3/20\n",
      "923/923 [==============================] - 2s 2ms/step - loss: 0.7007 - acc: 0.6405\n",
      "Epoch 4/20\n",
      "923/923 [==============================] - 2s 2ms/step - loss: 0.6212 - acc: 0.6999\n",
      "Epoch 5/20\n",
      "923/923 [==============================] - 2s 2ms/step - loss: 0.5581 - acc: 0.7436\n",
      "Epoch 6/20\n",
      "923/923 [==============================] - 2s 2ms/step - loss: 0.4826 - acc: 0.7943\n",
      "Epoch 7/20\n",
      "923/923 [==============================] - 2s 2ms/step - loss: 0.4482 - acc: 0.8256\n",
      "Epoch 8/20\n",
      "923/923 [==============================] - 2s 2ms/step - loss: 0.4055 - acc: 0.8480\n",
      "Epoch 9/20\n",
      "923/923 [==============================] - 2s 2ms/step - loss: 0.3925 - acc: 0.8496\n",
      "Epoch 10/20\n",
      "923/923 [==============================] - 2s 2ms/step - loss: 0.3797 - acc: 0.8590\n",
      "Epoch 11/20\n",
      "923/923 [==============================] - 2s 2ms/step - loss: 0.3853 - acc: 0.8527\n",
      "Epoch 12/20\n",
      "923/923 [==============================] - 2s 2ms/step - loss: 0.3788 - acc: 0.8557\n",
      "Epoch 13/20\n",
      "923/923 [==============================] - 2s 2ms/step - loss: 0.3887 - acc: 0.8552\n",
      "Epoch 14/20\n",
      "923/923 [==============================] - 2s 2ms/step - loss: 0.3766 - acc: 0.8561\n",
      "Epoch 15/20\n",
      "923/923 [==============================] - 2s 2ms/step - loss: 0.3717 - acc: 0.8610\n",
      "Epoch 16/20\n",
      "923/923 [==============================] - 2s 2ms/step - loss: 0.3651 - acc: 0.8583\n",
      "Epoch 17/20\n",
      "923/923 [==============================] - 2s 2ms/step - loss: 0.3626 - acc: 0.8610\n",
      "Epoch 18/20\n",
      "923/923 [==============================] - 2s 2ms/step - loss: 0.3603 - acc: 0.8644\n",
      "Epoch 19/20\n",
      "923/923 [==============================] - 2s 2ms/step - loss: 0.3681 - acc: 0.8624\n",
      "Epoch 20/20\n",
      "923/923 [==============================] - 2s 2ms/step - loss: 0.3468 - acc: 0.8602\n",
      "455/455 [==============================] - 0s 758us/step\n"
     ]
    }
   ],
   "source": [
    "import numpy as np\n",
    "data = np.load('AMPs-ML.npz')\n",
    "X = data['X']\n",
    "y = data['y']\n",
    "X_train, X_test, y_train, y_test = train_test_split(\n",
    "         X, y, test_size=0.33, random_state=42)\n",
    "\n",
    "INIT_LR = 1e-3\n",
    "EPOCHS = 75\n",
    "BS = 32\n",
    "model = SmallerVGGNet.build(width=20, height=20, depth=3, classes=6, finalAct=\"sigmoid\")\n",
    "\n",
    "# initiallize the optimizer\n",
    "opt = Adam(lr=INIT_LR, decay=INIT_LR/EPOCHS)\n",
    "\n",
    "# compile the model using binary cross-entropy rather than\n",
    "# categorical cross-entropy -- this may seem counterintuitive for\n",
    "# multi-label classification, but keep in mind that the goal here\n",
    "# is to treat each output label as an independent Bernoulli distribution\n",
    "model.compile(loss=\"binary_crossentropy\", optimizer=opt, metrics=[\"accuracy\"])\n",
    "\n",
    "# train the network\n",
    "print(\"[INFO] training network...\")\n",
    "model.fit(X_train, y_train,\n",
    "          epochs=20,\n",
    "          batch_size=64)\n",
    "score = model.evaluate(X_test, y_test, batch_size=64)"
   ]
  },
  {
   "cell_type": "code",
   "execution_count": 7,
   "metadata": {},
   "outputs": [],
   "source": [
    "p = model.predict(X_test)"
   ]
  },
  {
   "cell_type": "code",
   "execution_count": 8,
   "metadata": {},
   "outputs": [
    {
     "data": {
      "text/plain": [
       "array([[0.90984166, 0.07327306, 0.43991274, 0.04979087, 0.06940976,\n",
       "        0.05071924],\n",
       "       [0.95655274, 0.02038468, 0.44112197, 0.02335489, 0.08133035,\n",
       "        0.06741549],\n",
       "       [0.8656207 , 0.01195062, 0.45519215, 0.0275079 , 0.04597356,\n",
       "        0.0569214 ],\n",
       "       ...,\n",
       "       [0.85992956, 0.01210507, 0.35384986, 0.02816354, 0.03227266,\n",
       "        0.0533173 ],\n",
       "       [0.9709084 , 0.03101493, 0.48364452, 0.03557743, 0.08761466,\n",
       "        0.06558961],\n",
       "       [0.96638906, 0.19171104, 0.5074239 , 0.04765516, 0.09148818,\n",
       "        0.06707128]], dtype=float32)"
      ]
     },
     "execution_count": 8,
     "metadata": {},
     "output_type": "execute_result"
    }
   ],
   "source": []
  },
  {
   "cell_type": "code",
   "execution_count": 9,
   "metadata": {},
   "outputs": [
    {
     "data": {
      "text/plain": [
       "array([[1., 0., 0., 0., 0., 0.],\n",
       "       [1., 0., 0., 0., 0., 0.],\n",
       "       [1., 0., 0., 0., 0., 0.],\n",
       "       ...,\n",
       "       [1., 0., 0., 0., 0., 1.],\n",
       "       [1., 0., 0., 1., 0., 1.],\n",
       "       [1., 0., 1., 0., 0., 0.]])"
      ]
     },
     "execution_count": 9,
     "metadata": {},
     "output_type": "execute_result"
    }
   ],
   "source": [
    "y_test"
   ]
  },
  {
   "cell_type": "code",
   "execution_count": null,
   "metadata": {},
   "outputs": [],
   "source": []
  }
 ],
 "metadata": {
  "kernelspec": {
   "display_name": "Python 3",
   "language": "python",
   "name": "python3"
  },
  "language_info": {
   "codemirror_mode": {
    "name": "ipython",
    "version": 3
   },
   "file_extension": ".py",
   "mimetype": "text/x-python",
   "name": "python",
   "nbconvert_exporter": "python",
   "pygments_lexer": "ipython3",
   "version": "3.6.6"
  },
  "toc": {
   "base_numbering": 1,
   "nav_menu": {},
   "number_sections": true,
   "sideBar": true,
   "skip_h1_title": false,
   "title_cell": "Table of Contents",
   "title_sidebar": "Contents",
   "toc_cell": false,
   "toc_position": {},
   "toc_section_display": true,
   "toc_window_display": false
  }
 },
 "nbformat": 4,
 "nbformat_minor": 2
}
