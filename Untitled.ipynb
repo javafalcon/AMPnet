{
 "cells": [
  {
   "cell_type": "markdown",
   "metadata": {},
   "source": [
    "## 蛋白质编码\n",
    "\n",
    "读取AMPs和notAMPs序列，转化为2个通道的特征向量表示。其中通道1的数据来自hmmer的profile；通道2的数据来自氨基酸Onehot编码"
   ]
  },
  {
   "cell_type": "code",
   "execution_count": 1,
   "metadata": {},
   "outputs": [],
   "source": [
    "import numpy as np\n",
    "from Bio import SeqIO\n",
    "import json"
   ]
  },
  {
   "cell_type": "code",
   "execution_count": 2,
   "metadata": {},
   "outputs": [],
   "source": [
    "# 对矩阵进行归一化\n",
    "def maxminnorm(array):\n",
    "    maxcols=array.max(axis=0)\n",
    "    mincols=array.min(axis=0)\n",
    "    data_shape = array.shape\n",
    "    data_rows = data_shape[0]\n",
    "    data_cols = data_shape[1]\n",
    "    t=np.empty((data_rows,data_cols))\n",
    "    for i in range(data_cols):\n",
    "        t[:,i]=(array[:,i]-mincols[i])/(maxcols[i]-mincols[i])\n",
    "    return t"
   ]
  },
  {
   "cell_type": "code",
   "execution_count": 3,
   "metadata": {},
   "outputs": [],
   "source": [
    "# 加载来自hmmer profil的数据\n",
    "def load_hmm_prof():\n",
    "    files = ['e:/repoes/ampnet/data/benchmark/AMPs_50_hmm_profil.json',\n",
    "         'e:/repoes/ampnet/data/benchmark/notAMPs_50_hmm_profil.json']\n",
    "    N = 1000\n",
    "    X = np.ndarray((1600,N))\n",
    "    y = np.ones(1600)\n",
    "    y[800:] = 0\n",
    "    k = 0\n",
    "    for f in files:\n",
    "        fr = open(f,'r')\n",
    "        p = json.load(fr)\n",
    "        for key in p.keys():\n",
    "            ary = p[key]\n",
    "            tm = np.array(ary).reshape([-1,20])\n",
    "            c = len(ary)\n",
    "            if c < N:\n",
    "                tm = maxminnorm(tm)# 归一化\n",
    "                X[k][:c] = tm.reshape(c)\n",
    "                X[k][c:] = 0\n",
    "            elif c == N:\n",
    "                tm = maxminnorm(tm)# 归一化\n",
    "                X[k] = tm.reshape(c)\n",
    "            else:\n",
    "                t = tm[:50,:]\n",
    "                t = maxminnorm(t)# 归一化\n",
    "                X[k] = t.reshape(N)\n",
    "            k += 1\n",
    "        fr.close()\n",
    "        \n",
    "    return X, y"
   ]
  },
  {
   "cell_type": "code",
   "execution_count": 11,
   "metadata": {},
   "outputs": [],
   "source": [
    "import re\n",
    "def AAOneHot():\n",
    "    files=[r'E:\\Repoes\\AMPnet\\data\\benchmark\\AMPs_50.fasta',r'E:\\Repoes\\AMPnet\\data\\benchmark\\notAMPs_50.fasta']\n",
    "    text='PQRYWTMNVELHSFCIKADG'\n",
    "    N = 1000\n",
    "    X = np.ndarray((1600,N))\n",
    "    y = np.ones(1600)\n",
    "    y[800:] = 0\n",
    "    k = 0\n",
    "    for file in files:\n",
    "        for seq_record in SeqIO.parse(file,'fasta'):\n",
    "            seq = str(seq_record.seq)\n",
    "            seq = re.sub('[XZUB]',\"\",seq)\n",
    "            #print(\"\\r{}\".format(seq),end=\"\")\n",
    "            c = len(seq)\n",
    "            m = np.zeros((len(seq),20))\n",
    "            for i in range(c):\n",
    "                j = text.index(seq[i])\n",
    "                m[i][j] = 1\n",
    "           \n",
    "            m = m.reshape((1,-1))\n",
    "            #print(\"in {},{}:{}\".format(file,seq_record.id,m.shape))\n",
    "            # 只截取蛋白质序列前50个aa，不足的补0\n",
    "            c = c*20\n",
    "            if c < N:\n",
    "                X[k][:c] = m[0]\n",
    "                X[k][c:] = 0\n",
    "            elif c == N:\n",
    "                X[k] = m[0]\n",
    "            else:\n",
    "                X[k] = m[0][:N] \n",
    "            k += 1\n",
    "    return X,y"
   ]
  },
  {
   "cell_type": "code",
   "execution_count": 4,
   "metadata": {},
   "outputs": [],
   "source": [
    "def AAPhyChemOneHot():\n",
    "    files=[r'E:\\Repoes\\AMPnet\\data\\benchmark\\AMPs_50.fasta',\n",
    "           r'E:\\Repoes\\AMPnet\\data\\benchmark\\notAMPs_50.fasta']\n",
    "    text='PQRYWTMNVELHSFCIKADG'\n",
    "    N = 1000\n",
    "    X = np.ndarray((1600,N))\n",
    "    y = np.ones(1600)\n",
    "    y[800:] = 0\n",
    "    k = 0\n",
    "    phychemDict={}\n",
    "    phychemDict[\"alcohol\"]=(\"S\",\"T\")# 有乙醇基\n",
    "    phychemDict[\"aliphatic\"]=(\"I\",\"L\",\"V\")# 脂肪族\n",
    "    phychemDict[\"aromatic\"]=(\"F\",\"H\",\"W\",\"Y\")# 芳香族\n",
    "    phychemDict[\"charged\"]=(\"D\",\"E\",\"H\",\"K\",\"R\")# 带电性\n",
    "    phychemDict[\"positive\"]=(\"K\",\"H\",\"R\")# 带正电\n",
    "    phychemDict[\"negative\"]=(\"D\",\"E\")# 带负电\n",
    "    phychemDict[\"polar\"]=(\"A\",\"L\",\"I\",\"P\",\"F\",\"W\",\"M\")# 非极性\n",
    "    phychemDict[\"small\"]=(\"A\",\"C\",\"D\",\"G\",\"N\",\"P\",\"S\",\"T\",\"V\")# 小分子\n",
    "    phychemDict[\"turnlike\"]=(\"A\",\"C\",\"D\",\"E\",\"G\",\"H\",\"K\",\"N\",\"Q\",\"R\",\"S\",\"T\")\n",
    "    phychemDict[\"hydrophobic\"]=(\"A\",\"F\",\"I\",\"L\",\"M\",\"P\",\"V\",\"W\",\"Y\")# 疏水\n",
    "    phychemDict[\"asa\"]=(\"A\",\"N\",\"D\",\"C\",\"P\",\"S\",\"T\",\"G\",\"V\")# 可溶解表面积低于平均值\n",
    "    phychemDict[\"pr\"]=(\"F\",\"Y\",\"W\")# 在紫外区有光吸收能力\n",
    "    \n",
    "    keys = phychemDict.keys()\n",
    "    print(\"keys:\",keys)\n",
    "    for file in files:\n",
    "        for seq_record in SeqIO.parse(file,'fasta'):\n",
    "            seq = str(seq_record.seq)\n",
    "            seq = re.sub('[XZUB]',\"\",seq)\n",
    "            c = len(seq)\n",
    "            m = np.zeros((len(seq),20))\n",
    "            for i in range(c):\n",
    "                j = 0\n",
    "                for key in keys:\n",
    "                    val = phychemDict[key]\n",
    "                    if seq[i] in val:\n",
    "                        m[i][j] = 1\n",
    "                    j += 1\n",
    "                \n",
    "            m = m.reshape((1,-1))\n",
    "            #print(\"in {},{}:{}\".format(file,seq_record.id,m.shape))\n",
    "            # 只截取蛋白质序列前50个aa，不足的补0\n",
    "            c = c*20\n",
    "            if c < N:\n",
    "                X[k][:c] = m[0]\n",
    "                X[k][c:] = 0\n",
    "            elif c == N:\n",
    "                X[k] = m[0]\n",
    "            else:\n",
    "                X[k] = m[0][:N] \n",
    "            k += 1\n",
    "    return X,y"
   ]
  },
  {
   "cell_type": "markdown",
   "metadata": {},
   "source": [
    "定义函数，构建2通道的数据集。通道一是hmmer profile；通道二是AA的ONEHOTE编码"
   ]
  },
  {
   "cell_type": "code",
   "execution_count": 5,
   "metadata": {},
   "outputs": [],
   "source": [
    "def getTwoChannelsArray():\n",
    "    X1,y = load_hmm_prof()\n",
    "    X2,y = AAOneHot()\n",
    "    X=np.ndarray([1600,50,20,2])\n",
    "    X11 = X1.reshape([1600,50,20])\n",
    "    X21 = X2.reshape([1600,50,20])\n",
    "    X[:,:,:,0]=X11\n",
    "    X[:,:,:,1]=X21\n",
    "    return X,y"
   ]
  },
  {
   "cell_type": "code",
   "execution_count": 6,
   "metadata": {},
   "outputs": [],
   "source": [
    "def getThreeChannelsArray():\n",
    "    X1,y = load_hmm_prof()\n",
    "    X2,y = AAOneHot()\n",
    "    X3,y = AAPhyChemOneHot()\n",
    "    X=np.ndarray([1600,50,20,3])\n",
    "    X11 = X1.reshape([1600,50,20])\n",
    "    X21 = X2.reshape([1600,50,20])\n",
    "    X31 = X3.reshape([1600,50,20])\n",
    "    X[:,:,:,0]=X11\n",
    "    X[:,:,:,1]=X21\n",
    "    X[:,:,:,2]=X31\n",
    "    return X,y"
   ]
  },
  {
   "cell_type": "markdown",
   "metadata": {},
   "source": [
    "## 构建卷积网络进行训练"
   ]
  },
  {
   "cell_type": "code",
   "execution_count": 7,
   "metadata": {},
   "outputs": [
    {
     "name": "stdout",
     "output_type": "stream",
     "text": [
      "curses is not supported on this machine (please install/reinstall curses for an optimal experience)\n"
     ]
    }
   ],
   "source": [
    "import tflearn\n",
    "import tensorflow as tf\n",
    "from tflearn.data_utils import shuffle, to_categorical\n",
    "from tflearn.layers.core import input_data, dropout, fully_connected\n",
    "from tflearn.layers.normalization import local_response_normalization\n",
    "from tflearn.layers.conv import conv_2d, max_pool_2d\n",
    "from tflearn.layers.estimator import regression\n",
    "from tflearn.data_preprocessing import ImagePreprocessing\n",
    "from tflearn.data_augmentation import ImageAugmentation\n",
    "from sklearn.model_selection import LeaveOneOut, KFold\n",
    "from sklearn.metrics import accuracy_score, auc, roc_curve"
   ]
  },
  {
   "cell_type": "code",
   "execution_count": 8,
   "metadata": {},
   "outputs": [],
   "source": [
    "def net(X_train, y_train, X_test, y_test,channels=1):\n",
    "    # Real-time data preprocessing\n",
    "    img_prep = ImagePreprocessing()\n",
    "    img_prep.add_featurewise_zero_center()\n",
    "    img_prep.add_featurewise_stdnorm()\n",
    "    \n",
    "    # Real-time data augmentation\n",
    "    img_aug = ImageAugmentation()\n",
    "    img_aug.add_random_flip_leftright()\n",
    "    img_aug.add_random_rotation(max_angle=25.)\n",
    "    \n",
    "    # Convolutional network building\n",
    "    network = input_data(shape=[None, 50, 20, channels],\n",
    "                         data_preprocessing=img_prep,\n",
    "                         data_augmentation=img_aug)\n",
    "    network = conv_2d(network, 32, 3, activation='relu')\n",
    "    network = max_pool_2d(network, 2)\n",
    "    network = dropout(network, 0.75)\n",
    "    network = conv_2d(network, 64, 3, activation='relu')\n",
    "    network = conv_2d(network, 64, 3, activation='relu')\n",
    "    network = max_pool_2d(network, 2)\n",
    "    network = dropout(network, 0.5)\n",
    "    network = fully_connected(network, 512, activation='tanh')\n",
    "    network = dropout(network, 0.8)\n",
    "    network = fully_connected(network, 512, activation='tanh')\n",
    "    network = dropout(network, 0.8)\n",
    "    network = fully_connected(network, 2, activation='softmax')\n",
    "    network = regression(network, optimizer='adam',\n",
    "                         loss='categorical_crossentropy',\n",
    "                         learning_rate=0.001)\n",
    "    \n",
    "    # Train using classifier\n",
    "    model = tflearn.DNN(network, tensorboard_verbose=0)\n",
    "    model.fit(X_train, y_train, n_epoch=100, shuffle=True, \n",
    "              validation_set=(X_test,y_test),\n",
    "              show_metric=True, batch_size=32, \n",
    "              run_id='AMP_cnn')\n",
    "    return model\n",
    " \n",
    "\n",
    "def jackknife_test(X, y, channels=1):\n",
    "    y_pred = np.zeros(1600)\n",
    "    loo = LeaveOneOut()\n",
    "    for train_index, test_index in loo.split(X):\n",
    "        print(\"\\r In predicting {}\".format(test_index))\n",
    "        X_train, X_test = X[train_index], [X[test_index]]\n",
    "        y_train, y_test = y[train_index], [y[test_index]]\n",
    "        tf.reset_default_graph()\n",
    "        y_pred[test_index] = net(X_train, y_train, X_test, y_test,channels)\n",
    "    return y_pred\n",
    "\n",
    "\n",
    "def cross_validate(X,y,n_splits=3,channels=1):\n",
    "    pred_prob = np.zeros([1600,2])\n",
    "    kf = KFold(n_splits)\n",
    "    for train_index, test_index in kf.split(X):\n",
    "        #print(\"TRAIN:\", train_index, \"TEST:\", test_index)\n",
    "        X_train, X_test = X[train_index], X[test_index]\n",
    "        y_train, y_test = y[train_index], y[test_index]\n",
    "        tf.reset_default_graph()\n",
    "        model = net(X_train, y_train, X_test, y_test,channels)\n",
    "        pred_prob[test_index] = model.predict(X_test)\n",
    "    return pred_prob"
   ]
  },
  {
   "cell_type": "code",
   "execution_count": 9,
   "metadata": {},
   "outputs": [],
   "source": [
    "# 计算准确率acc和可接受曲线下面积AUC\n",
    "def metric(y, predprob):\n",
    "    d1 = len(y)\n",
    "    y_pred = np.zeros((d1,2))\n",
    "    for i in range(d1):\n",
    "        if predprob[i][0] > predprob[i][1]:\n",
    "            y_pred[i][0] = 1\n",
    "        else:\n",
    "            y_pred[i][1] = 1\n",
    "            \n",
    "    accuracy=accuracy_score(y[:,0],y_pred[:,0])\n",
    "    print(\"accuracy={}\".format(accuracy))\n",
    "    fpr,tpr,thresholds=roc_curve(y[:,0],predprob[:,0],pos_label=1)\n",
    "    print(\"AUC={}\".format(auc(fpr,tpr)))"
   ]
  },
  {
   "cell_type": "markdown",
   "metadata": {},
   "source": [
    "### 两个通道数据的训练"
   ]
  },
  {
   "cell_type": "code",
   "execution_count": null,
   "metadata": {},
   "outputs": [],
   "source": [
    "# 获取数据\n",
    "X,y = getTwoChannelsArray()\n",
    "yy = np.zeros((1600,2))\n",
    "for i in range(800):\n",
    "    yy[i][0] = 1\n",
    "for i in range(800,1600):\n",
    "    yy[i][1] = 1\n",
    "# 交叉验证\n",
    "X,y = shuffle(X,yy)\n",
    "predprob = cross_validate(X,y,5,2)\n",
    "metric(y, predprob) # print: 0.81375, 0.883389"
   ]
  },
  {
   "cell_type": "markdown",
   "metadata": {},
   "source": [
    "### 仅hmmer profil一个通道数据的训练"
   ]
  },
  {
   "cell_type": "code",
   "execution_count": null,
   "metadata": {},
   "outputs": [],
   "source": [
    "X1,y = load_hmm_prof()\n",
    "X1 = X1.reshape([-1,50,20,1])\n",
    "y = np.zeros((1600,2))\n",
    "for i in range(800):\n",
    "    y[i][0] = 1\n",
    "for i in range(800,1600):\n",
    "    y[i][1] = 1\n",
    "# 交叉验证\n",
    "X1,y = shuffle(X1,y)\n",
    "predprob = cross_validate(X1,y,n_splits=5,channels=1)\n",
    "metric(y, predprob)# print: 0.795, 0.868684"
   ]
  },
  {
   "cell_type": "markdown",
   "metadata": {},
   "source": [
    "### 三个通道数据训练"
   ]
  },
  {
   "cell_type": "code",
   "execution_count": null,
   "metadata": {},
   "outputs": [
    {
     "name": "stdout",
     "output_type": "stream",
     "text": [
      "Training Step: 2039  | total loss: \u001b[1m\u001b[32m0.41186\u001b[0m\u001b[0m | time: 4.431s\n",
      "\u001b[2K\r",
      "| Adam | epoch: 051 | loss: 0.41186 - acc: 0.8146 -- iter: 1248/1280\n"
     ]
    }
   ],
   "source": [
    "X,y = getThreeChannelsArray()\n",
    "yy = np.zeros((1600,2))\n",
    "for i in range(800):\n",
    "    yy[i][0] = 1\n",
    "for i in range(800,1600):\n",
    "    yy[i][1] = 1\n",
    "# 交叉验证\n",
    "X,y = shuffle(X,yy)\n",
    "predprob = cross_validate(X,y,n_splits=5,channels=3)\n",
    "metric(y, predprob)# accuracy=0.820625 AUC=0.9052437499999999"
   ]
  },
  {
   "cell_type": "markdown",
   "metadata": {},
   "source": [
    "## 其它，包括测试代码段"
   ]
  },
  {
   "cell_type": "code",
   "execution_count": null,
   "metadata": {},
   "outputs": [],
   "source": [
    "tf.reset_default_graph()\n",
    "model = net(X_train, y_train, X_test, y_test)\n",
    "predprob = model.predict(X_test)"
   ]
  },
  {
   "cell_type": "code",
   "execution_count": null,
   "metadata": {},
   "outputs": [],
   "source": [
    "pred=model.predict(X_test)"
   ]
  },
  {
   "cell_type": "code",
   "execution_count": null,
   "metadata": {},
   "outputs": [],
   "source": [
    "predLabel = model.predict_label([X_test[-1]])"
   ]
  },
  {
   "cell_type": "code",
   "execution_count": null,
   "metadata": {},
   "outputs": [],
   "source": [
    "pred"
   ]
  },
  {
   "cell_type": "code",
   "execution_count": null,
   "metadata": {},
   "outputs": [],
   "source": [
    "t1=np.ndarray([3,4])\n",
    "t2=t1.reshape(12)\n",
    "print(t2.shape)"
   ]
  },
  {
   "cell_type": "code",
   "execution_count": null,
   "metadata": {},
   "outputs": [],
   "source": [
    "t3=t1[:2,:].reshape([-1,2])\n",
    "t4=t3.reshape(8)\n",
    "print(t4.shape)"
   ]
  },
  {
   "cell_type": "code",
   "execution_count": null,
   "metadata": {},
   "outputs": [],
   "source": [
    "X,y = AAPhyChemOneHot()"
   ]
  },
  {
   "cell_type": "code",
   "execution_count": null,
   "metadata": {},
   "outputs": [],
   "source": [
    "X[0]"
   ]
  },
  {
   "cell_type": "code",
   "execution_count": null,
   "metadata": {},
   "outputs": [],
   "source": [
    "93.7+173.7+250.4+215.2+146.3+197.6+142.6+228.6+135.2+177.7+109.5+182.9+142.1+52.6+271.6+188.1+239.9+182.2+157.2"
   ]
  },
  {
   "cell_type": "code",
   "execution_count": null,
   "metadata": {},
   "outputs": [],
   "source": [
    "3287.1/20"
   ]
  },
  {
   "cell_type": "code",
   "execution_count": null,
   "metadata": {},
   "outputs": [],
   "source": []
  }
 ],
 "metadata": {
  "kernelspec": {
   "display_name": "Python 3",
   "language": "python",
   "name": "python3"
  },
  "language_info": {
   "codemirror_mode": {
    "name": "ipython",
    "version": 3
   },
   "file_extension": ".py",
   "mimetype": "text/x-python",
   "name": "python",
   "nbconvert_exporter": "python",
   "pygments_lexer": "ipython3",
   "version": "3.6.6"
  }
 },
 "nbformat": 4,
 "nbformat_minor": 2
}
