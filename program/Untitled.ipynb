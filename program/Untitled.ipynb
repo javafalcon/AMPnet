{
 "cells": [
  {
   "cell_type": "code",
   "execution_count": 1,
   "metadata": {},
   "outputs": [
    {
     "name": "stdout",
     "output_type": "stream",
     "text": [
      "curses is not supported on this machine (please install/reinstall curses for an optimal experience)\n"
     ]
    }
   ],
   "source": [
    "import json\n",
    "import numpy as np\n",
    "import tflearn\n",
    "import tensorflow as tf\n",
    "from tflearn.data_utils import shuffle, to_categorical\n",
    "from tflearn.layers.core import input_data, dropout, fully_connected\n",
    "from tflearn.layers.normalization import local_response_normalization\n",
    "from tflearn.layers.conv import conv_2d, max_pool_2d\n",
    "from tflearn.layers.estimator import regression\n",
    "from tflearn.data_preprocessing import ImagePreprocessing\n",
    "from tflearn.data_augmentation import ImageAugmentation\n",
    "from sklearn.model_selection import LeaveOneOut, KFold\n",
    "from sklearn.metrics import accuracy_score, auc, roc_curve\n",
    "# 每个序列取前50个氨基酸（共50*20=1000个特征），如果序列长度不足50，则补0\n",
    "# 如果序列长度大于50，则截取前50个氨基酸\n",
    "def load_hmm_prof():\n",
    "    files = ['e:/repoes/ampnet/data/benchmark/AMPs_50_hmm_profil.json',\n",
    "         'e:/repoes/ampnet/data/benchmark/notAMPs_50_hmm_profil.json']\n",
    "    N = 1000\n",
    "    X = np.ndarray((1600,N))\n",
    "    y = np.ones(1600)\n",
    "    y[800:] = 0\n",
    "    k = 0\n",
    "    for f in files:\n",
    "        fr = open(f,'r')\n",
    "        p = json.load(fr)\n",
    "        for key in p.keys():\n",
    "            ary = p[key]\n",
    "            c = len(ary)\n",
    "            if c < N:\n",
    "                X[k][:c] = ary\n",
    "                X[k][c:] = 0\n",
    "            elif c == N:\n",
    "                X[k] = ary\n",
    "            else:\n",
    "                X[k] = ary[:N]\n",
    "            k += 1\n",
    "        fr.close()\n",
    "        \n",
    "    return X, y\n",
    "\n",
    "def net(X_train, y_train, X_test, y_test):\n",
    "    # Real-time data preprocessing\n",
    "    img_prep = ImagePreprocessing()\n",
    "    img_prep.add_featurewise_zero_center()\n",
    "    img_prep.add_featurewise_stdnorm()\n",
    "    \n",
    "    # Real-time data augmentation\n",
    "    img_aug = ImageAugmentation()\n",
    "    img_aug.add_random_flip_leftright()\n",
    "    img_aug.add_random_rotation(max_angle=25.)\n",
    "    \n",
    "    # Convolutional network building\n",
    "    network = input_data(shape=[None, 50, 20, 1],\n",
    "                         data_preprocessing=img_prep,\n",
    "                         data_augmentation=img_aug)\n",
    "    network = conv_2d(network, 32, 3, activation='relu')\n",
    "    network = max_pool_2d(network, 2)\n",
    "    network = dropout(network, 0.75)\n",
    "    network = conv_2d(network, 64, 3, activation='relu')\n",
    "    network = conv_2d(network, 64, 3, activation='relu')\n",
    "    network = max_pool_2d(network, 2)\n",
    "    network = dropout(network, 0.5)\n",
    "    network = fully_connected(network, 512, activation='relu')\n",
    "    network = dropout(network, 0.5)\n",
    "    network = fully_connected(network, 2, activation='softmax')\n",
    "    network = regression(network, optimizer='adam',\n",
    "                         loss='categorical_crossentropy',\n",
    "                         learning_rate=0.001)\n",
    "    \n",
    "    # Train using classifier\n",
    "    model = tflearn.DNN(network, tensorboard_verbose=0)\n",
    "    model.fit(X_train, y_train, n_epoch=100, shuffle=True, validation_set=(X_test,y_test),\n",
    "              show_metric=True, batch_size=32, run_id='cifar10_cnn_mnist')\n",
    "    return model"
   ]
  },
  {
   "cell_type": "code",
   "execution_count": 2,
   "metadata": {},
   "outputs": [],
   "source": [
    "X,y = load_hmm_prof()\n",
    "X = X.reshape([-1,50,20,1])\n",
    "y = to_categorical(y,2)  \n",
    "X,y = shuffle(X,y) "
   ]
  },
  {
   "cell_type": "code",
   "execution_count": 7,
   "metadata": {},
   "outputs": [
    {
     "name": "stdout",
     "output_type": "stream",
     "text": [
      "Training Step: 3399  | total loss: \u001b[1m\u001b[32m0.42037\u001b[0m\u001b[0m | time: 3.359s\n",
      "| Adam | epoch: 100 | loss: 0.42037 - acc: 0.8175 -- iter: 1056/1067\n",
      "Training Step: 3400  | total loss: \u001b[1m\u001b[32m0.42000\u001b[0m\u001b[0m | time: 4.474s\n",
      "| Adam | epoch: 100 | loss: 0.42000 - acc: 0.8201 | val_loss: 0.54725 - val_acc: 0.8086 -- iter: 1067/1067\n",
      "--\n"
     ]
    }
   ],
   "source": [
    "y_pred_value = np.zeros([1600,2])\n",
    "kf = KFold(n_splits=3)\n",
    "for train_index, test_index in kf.split(X):\n",
    "    #print(\"TRAIN:\", train_index, \"TEST:\", test_index)\n",
    "    X_train, X_test = X[train_index], X[test_index]\n",
    "    y_train, y_test = y[train_index], y[test_index]\n",
    "    tf.reset_default_graph()\n",
    "    model = net(X_train, y_train, X_test, y_test)\n",
    "    #for (xx,k) in zip(X_test, test_index):\n",
    "    py = model.predict(X_test)\n",
    "        #print(y)\n",
    "    y_pred_value[test_index] = py"
   ]
  },
  {
   "cell_type": "code",
   "execution_count": null,
   "metadata": {},
   "outputs": [],
   "source": [
    "py.shape\n"
   ]
  },
  {
   "cell_type": "code",
   "execution_count": 8,
   "metadata": {},
   "outputs": [],
   "source": [
    "accuracy = accuracy_score(y[:,0], y_pred[:,0])\n",
    "fpr, tpr, thresholds = roc_curve(y[:,0], y_pred[:,0], pos_label=1) \n",
    "area = auc(fpr, tpr)             "
   ]
  },
  {
   "cell_type": "code",
   "execution_count": 9,
   "metadata": {},
   "outputs": [
    {
     "name": "stdout",
     "output_type": "stream",
     "text": [
      "0.5 0.5\n"
     ]
    }
   ],
   "source": [
    "print(accuracy,area)"
   ]
  },
  {
   "cell_type": "code",
   "execution_count": null,
   "metadata": {},
   "outputs": [],
   "source": [
    "y[:,0]"
   ]
  },
  {
   "cell_type": "code",
   "execution_count": null,
   "metadata": {},
   "outputs": [],
   "source": [
    "y_pred[:,0]"
   ]
  },
  {
   "cell_type": "code",
   "execution_count": null,
   "metadata": {},
   "outputs": [],
   "source": [
    "y_pred[:800,0]"
   ]
  },
  {
   "cell_type": "code",
   "execution_count": null,
   "metadata": {},
   "outputs": [],
   "source": []
  }
 ],
 "metadata": {
  "kernelspec": {
   "display_name": "Python 3",
   "language": "python",
   "name": "python3"
  },
  "language_info": {
   "codemirror_mode": {
    "name": "ipython",
    "version": 3
   },
   "file_extension": ".py",
   "mimetype": "text/x-python",
   "name": "python",
   "nbconvert_exporter": "python",
   "pygments_lexer": "ipython3",
   "version": "3.6.6"
  }
 },
 "nbformat": 4,
 "nbformat_minor": 2
}
